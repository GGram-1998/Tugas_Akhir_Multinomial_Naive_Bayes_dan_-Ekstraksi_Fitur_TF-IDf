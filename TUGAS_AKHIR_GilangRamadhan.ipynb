{
  "cells": [
    {
      "cell_type": "markdown",
      "metadata": {
        "id": "gHJ6UEUm03cA"
      },
      "source": [
        "# Proses Crawling API Twitter\n",
        "\n",
        "\n"
      ]
    },
    {
      "cell_type": "markdown",
      "metadata": {
        "id": "FICCf9Cl9cwC"
      },
      "source": [
        "# Import Packages\n",
        "Packages meliput library yang mendukung dalam proses crawling. pada penelitian ini digunakan library package tweepy. . Tweepy adalah salah datu library packages open source untuk mendapatkan data tweet. Tweepy menyertakan satu set kelas dan metode yang mewakili model Twitter dan titik akhir API. "
      ]
    },
    {
      "cell_type": "markdown",
      "metadata": {
        "id": "biq92FlT-TXY"
      },
      "source": [
        "Library lain untuk proses preprocessing, menghitung ekstraksi fitur tf-idf, menghitung menggunakan algortima multinomial naive bayes digunakan pada penelitian ini untuk memudahkan proses klasifikasi dan mengevaluasi model"
      ]
    },
    {
      "cell_type": "code",
      "execution_count": null,
      "metadata": {
        "id": "uzgktYHc-CJl"
      },
      "outputs": [],
      "source": [
        "import tweepy as tw\n",
        "import pandas as pd"
      ]
    },
    {
      "cell_type": "code",
      "execution_count": null,
      "metadata": {
        "id": "lsPVKnIY2hzU"
      },
      "outputs": [],
      "source": [
        "#Masukkan twitter token API\n",
        "api_key = \"HTBlthMxY3hRikPeYqWp1lzqz\"\n",
        "api_key_secret = \"2jFAVjmRaF9j2K8k8gK3TjQKjkbrNSCa5NCO0vuJXOS0yM3eN3\"\n",
        "access_token = \"748381377796644864-ZvR8BzKpANo0e8cnNxVodXyJ1WAhmu4\"\n",
        "access_token_secret = \"hIxjoSk7mex2aDduDOMRq8H3DZpt8Vpf62BBlWUaJqyij\""
      ]
    },
    {
      "cell_type": "code",
      "execution_count": null,
      "metadata": {
        "id": "4fP7zXZ4-4Vb"
      },
      "outputs": [],
      "source": [
        "# melakukan authentication atau registrasi api key ke api twitter\n",
        "auth = tw.OAuthHandler(api_key, api_key_secret)\n",
        "# Mendapat akses dari token yang didapat\n",
        "auth.set_access_token(access_token, access_token_secret)\n",
        "# memanggil API twitter\n",
        "api = tw.API(auth)"
      ]
    },
    {
      "cell_type": "code",
      "execution_count": null,
      "metadata": {
        "id": "4Iz39SVXAld1"
      },
      "outputs": [],
      "source": [
        "# Mulai crawling search tweet\n",
        "tweets = tw.Cursor(api.search_tweets, \n",
        "q=\"jabatan tiga periode OR masa jabatan presiden OR presiden tiga periode\",\n",
        "lang=\"id\", tweet_mode='extended', since=\"01-07-2022\", until=\"30-12-2022\").items(600)"
      ]
    },
    {
      "cell_type": "code",
      "execution_count": null,
      "metadata": {
        "colab": {
          "base_uri": "https://localhost:8080/"
        },
        "id": "8UhZIyObHVEs",
        "outputId": "5959605c-d794-4955-bd49-271fee351d6b"
      },
      "outputs": [
        {
          "name": "stderr",
          "output_type": "stream",
          "text": [
            "WARNING:tweepy.api:Unexpected parameter: since\n"
          ]
        }
      ],
      "source": [
        "for teks in tweets:\n",
        "    #Membuat penyimpanan \n",
        "    teks_properties= {}\n",
        "    #Membuat properti tanggal, nama pengguna dan isi tweet.\n",
        "    teks_properties[\"tanggal\"]=teks.created_at\n",
        "    teks_properties[\"pengguna\"]=teks.user.screen_name\n",
        "    teks_properties[\"isi teks\"]= teks.full_text"
      ]
    },
    {
      "cell_type": "code",
      "execution_count": null,
      "metadata": {
        "colab": {
          "base_uri": "https://localhost:8080/"
        },
        "id": "0ShlyzkpPy5K",
        "outputId": "dfd78370-b0b9-49e5-effb-26a075bbbadb"
      },
      "outputs": [
        {
          "name": "stderr",
          "output_type": "stream",
          "text": [
            "WARNING:tweepy.api:Unexpected parameter: since\n"
          ]
        }
      ],
      "source": [
        "#Menyimpan dataset ke file penyimpanan\n",
        "\n",
        "df = pd.DataFrame(tweets)\n",
        "df.to_csv('dataset_jabatan_presiden.csv')\n"
      ]
    },
    {
      "cell_type": "code",
      "execution_count": null,
      "metadata": {
        "colab": {
          "base_uri": "https://localhost:8080/",
          "height": 407
        },
        "id": "LNolx4pVkAzW",
        "outputId": "94b76343-1d03-473a-b25d-8f41ed4108d4"
      },
      "outputs": [
        {
          "data": {
            "text/html": [
              "\n",
              "  <div id=\"df-20759d42-05d7-4e68-97fb-f5d075731fc8\">\n",
              "    <div class=\"colab-df-container\">\n",
              "      <div>\n",
              "<style scoped>\n",
              "    .dataframe tbody tr th:only-of-type {\n",
              "        vertical-align: middle;\n",
              "    }\n",
              "\n",
              "    .dataframe tbody tr th {\n",
              "        vertical-align: top;\n",
              "    }\n",
              "\n",
              "    .dataframe thead th {\n",
              "        text-align: right;\n",
              "    }\n",
              "</style>\n",
              "<table border=\"1\" class=\"dataframe\">\n",
              "  <thead>\n",
              "    <tr style=\"text-align: right;\">\n",
              "      <th></th>\n",
              "      <th>VALUE SENTIMEN</th>\n",
              "      <th>tanggal</th>\n",
              "      <th>pengguna</th>\n",
              "      <th>isi teks</th>\n",
              "    </tr>\n",
              "  </thead>\n",
              "  <tbody>\n",
              "    <tr>\n",
              "      <th>0</th>\n",
              "      <td>0</td>\n",
              "      <td>2022-05-16T10:02:28.000Z</td>\n",
              "      <td>Fraksi Gerindra MPR/DPR Republik Indonesia</td>\n",
              "      <td>\"Kondisi bangsa ini menghadapi kenyataan bahwa...</td>\n",
              "    </tr>\n",
              "    <tr>\n",
              "      <th>1</th>\n",
              "      <td>0</td>\n",
              "      <td>2022-06-14T06:47:02.000Z</td>\n",
              "      <td>Putra Jembes</td>\n",
              "      <td>\"Tiga periode itu proyek mimpi. Saat ini Jokow...</td>\n",
              "    </tr>\n",
              "    <tr>\n",
              "      <th>2</th>\n",
              "      <td>0</td>\n",
              "      <td>2022-06-29T09:21:57.000Z</td>\n",
              "      <td>Hadi Djawas</td>\n",
              "      <td>\"Tolak penundaan pemilu dan masa perpangjang j...</td>\n",
              "    </tr>\n",
              "    <tr>\n",
              "      <th>3</th>\n",
              "      <td>0</td>\n",
              "      <td>2022-06-14T11:39:58.000Z</td>\n",
              "      <td>cah lokal jiwa nasional</td>\n",
              "      <td>#BacktoBDM @bdm2502 bersama Ulin Yusron (@ulin...</td>\n",
              "    </tr>\n",
              "    <tr>\n",
              "      <th>4</th>\n",
              "      <td>0</td>\n",
              "      <td>2022-06-29T01:02:53.000Z</td>\n",
              "      <td>Answerts</td>\n",
              "      <td>#Projo #Jokowi #3Periode \\n\\nSaya bilang ke te...</td>\n",
              "    </tr>\n",
              "    <tr>\n",
              "      <th>5</th>\n",
              "      <td>0</td>\n",
              "      <td>2022-06-29T06:03:06.000Z</td>\n",
              "      <td>SuTaryo</td>\n",
              "      <td>#Rilis | Partai Gelora: Parpol Pro Jokowi Munc...</td>\n",
              "    </tr>\n",
              "    <tr>\n",
              "      <th>6</th>\n",
              "      <td>0</td>\n",
              "      <td>2022-04-22T15:51:42.000Z</td>\n",
              "      <td>Junet</td>\n",
              "      <td>#salam3periode\\n#rakyatmenghendaki\\n#SuaraRaky...</td>\n",
              "    </tr>\n",
              "    <tr>\n",
              "      <th>7</th>\n",
              "      <td>0</td>\n",
              "      <td>2022-06-15T16:05:02.000Z</td>\n",
              "      <td>Repelita Online</td>\n",
              "      <td>..https://t.co/sDQsz9zkJk\\n\\nHotman Paris Huta...</td>\n",
              "    </tr>\n",
              "    <tr>\n",
              "      <th>8</th>\n",
              "      <td>0</td>\n",
              "      <td>2022-06-11T23:59:46.000Z</td>\n",
              "      <td>Ayy-SAGA</td>\n",
              "      <td>@_Qirani__Ayara @jokowi Kalau menurut konfirma...</td>\n",
              "    </tr>\n",
              "    <tr>\n",
              "      <th>9</th>\n",
              "      <td>0</td>\n",
              "      <td>2022-06-10T13:02:06.000Z</td>\n",
              "      <td>Santriwati</td>\n",
              "      <td>@03__nakula Saya kok jadi berkobar untuk menyu...</td>\n",
              "    </tr>\n",
              "  </tbody>\n",
              "</table>\n",
              "</div>\n",
              "      <button class=\"colab-df-convert\" onclick=\"convertToInteractive('df-20759d42-05d7-4e68-97fb-f5d075731fc8')\"\n",
              "              title=\"Convert this dataframe to an interactive table.\"\n",
              "              style=\"display:none;\">\n",
              "        \n",
              "  <svg xmlns=\"http://www.w3.org/2000/svg\" height=\"24px\"viewBox=\"0 0 24 24\"\n",
              "       width=\"24px\">\n",
              "    <path d=\"M0 0h24v24H0V0z\" fill=\"none\"/>\n",
              "    <path d=\"M18.56 5.44l.94 2.06.94-2.06 2.06-.94-2.06-.94-.94-2.06-.94 2.06-2.06.94zm-11 1L8.5 8.5l.94-2.06 2.06-.94-2.06-.94L8.5 2.5l-.94 2.06-2.06.94zm10 10l.94 2.06.94-2.06 2.06-.94-2.06-.94-.94-2.06-.94 2.06-2.06.94z\"/><path d=\"M17.41 7.96l-1.37-1.37c-.4-.4-.92-.59-1.43-.59-.52 0-1.04.2-1.43.59L10.3 9.45l-7.72 7.72c-.78.78-.78 2.05 0 2.83L4 21.41c.39.39.9.59 1.41.59.51 0 1.02-.2 1.41-.59l7.78-7.78 2.81-2.81c.8-.78.8-2.07 0-2.86zM5.41 20L4 18.59l7.72-7.72 1.47 1.35L5.41 20z\"/>\n",
              "  </svg>\n",
              "      </button>\n",
              "      \n",
              "  <style>\n",
              "    .colab-df-container {\n",
              "      display:flex;\n",
              "      flex-wrap:wrap;\n",
              "      gap: 12px;\n",
              "    }\n",
              "\n",
              "    .colab-df-convert {\n",
              "      background-color: #E8F0FE;\n",
              "      border: none;\n",
              "      border-radius: 50%;\n",
              "      cursor: pointer;\n",
              "      display: none;\n",
              "      fill: #1967D2;\n",
              "      height: 32px;\n",
              "      padding: 0 0 0 0;\n",
              "      width: 32px;\n",
              "    }\n",
              "\n",
              "    .colab-df-convert:hover {\n",
              "      background-color: #E2EBFA;\n",
              "      box-shadow: 0px 1px 2px rgba(60, 64, 67, 0.3), 0px 1px 3px 1px rgba(60, 64, 67, 0.15);\n",
              "      fill: #174EA6;\n",
              "    }\n",
              "\n",
              "    [theme=dark] .colab-df-convert {\n",
              "      background-color: #3B4455;\n",
              "      fill: #D2E3FC;\n",
              "    }\n",
              "\n",
              "    [theme=dark] .colab-df-convert:hover {\n",
              "      background-color: #434B5C;\n",
              "      box-shadow: 0px 1px 3px 1px rgba(0, 0, 0, 0.15);\n",
              "      filter: drop-shadow(0px 1px 2px rgba(0, 0, 0, 0.3));\n",
              "      fill: #FFFFFF;\n",
              "    }\n",
              "  </style>\n",
              "\n",
              "      <script>\n",
              "        const buttonEl =\n",
              "          document.querySelector('#df-20759d42-05d7-4e68-97fb-f5d075731fc8 button.colab-df-convert');\n",
              "        buttonEl.style.display =\n",
              "          google.colab.kernel.accessAllowed ? 'block' : 'none';\n",
              "\n",
              "        async function convertToInteractive(key) {\n",
              "          const element = document.querySelector('#df-20759d42-05d7-4e68-97fb-f5d075731fc8');\n",
              "          const dataTable =\n",
              "            await google.colab.kernel.invokeFunction('convertToInteractive',\n",
              "                                                     [key], {});\n",
              "          if (!dataTable) return;\n",
              "\n",
              "          const docLinkHtml = 'Like what you see? Visit the ' +\n",
              "            '<a target=\"_blank\" href=https://colab.research.google.com/notebooks/data_table.ipynb>data table notebook</a>'\n",
              "            + ' to learn more about interactive tables.';\n",
              "          element.innerHTML = '';\n",
              "          dataTable['output_type'] = 'display_data';\n",
              "          await google.colab.output.renderOutput(dataTable, element);\n",
              "          const docLink = document.createElement('div');\n",
              "          docLink.innerHTML = docLinkHtml;\n",
              "          element.appendChild(docLink);\n",
              "        }\n",
              "      </script>\n",
              "    </div>\n",
              "  </div>\n",
              "  "
            ],
            "text/plain": [
              "   VALUE SENTIMEN                   tanggal  \\\n",
              "0               0  2022-05-16T10:02:28.000Z   \n",
              "1               0  2022-06-14T06:47:02.000Z   \n",
              "2               0  2022-06-29T09:21:57.000Z   \n",
              "3               0  2022-06-14T11:39:58.000Z   \n",
              "4               0  2022-06-29T01:02:53.000Z   \n",
              "5               0  2022-06-29T06:03:06.000Z   \n",
              "6               0  2022-04-22T15:51:42.000Z   \n",
              "7               0  2022-06-15T16:05:02.000Z   \n",
              "8               0  2022-06-11T23:59:46.000Z   \n",
              "9               0  2022-06-10T13:02:06.000Z   \n",
              "\n",
              "                                     pengguna  \\\n",
              "0  Fraksi Gerindra MPR/DPR Republik Indonesia   \n",
              "1                                Putra Jembes   \n",
              "2                                 Hadi Djawas   \n",
              "3                     cah lokal jiwa nasional   \n",
              "4                                    Answerts   \n",
              "5                                     SuTaryo   \n",
              "6                                       Junet   \n",
              "7                             Repelita Online   \n",
              "8                                    Ayy-SAGA   \n",
              "9                                  Santriwati   \n",
              "\n",
              "                                            isi teks  \n",
              "0  \"Kondisi bangsa ini menghadapi kenyataan bahwa...  \n",
              "1  \"Tiga periode itu proyek mimpi. Saat ini Jokow...  \n",
              "2  \"Tolak penundaan pemilu dan masa perpangjang j...  \n",
              "3  #BacktoBDM @bdm2502 bersama Ulin Yusron (@ulin...  \n",
              "4  #Projo #Jokowi #3Periode \\n\\nSaya bilang ke te...  \n",
              "5  #Rilis | Partai Gelora: Parpol Pro Jokowi Munc...  \n",
              "6  #salam3periode\\n#rakyatmenghendaki\\n#SuaraRaky...  \n",
              "7  ..https://t.co/sDQsz9zkJk\\n\\nHotman Paris Huta...  \n",
              "8  @_Qirani__Ayara @jokowi Kalau menurut konfirma...  \n",
              "9  @03__nakula Saya kok jadi berkobar untuk menyu...  "
            ]
          },
          "execution_count": 7,
          "metadata": {},
          "output_type": "execute_result"
        }
      ],
      "source": [
        "df = pd.read_csv('dataset_jabatan_presiden.csv')\n",
        "df[:10]"
      ]
    },
    {
      "cell_type": "markdown",
      "metadata": {
        "id": "ui0N6haiPp5A"
      },
      "source": [
        "# Proses *Preprocessing*\n",
        "\n",
        "proses preprocessing meliputi data cleansing, case folding, tokenizing/Normalization, stopword/filtering, dan stemming"
      ]
    },
    {
      "cell_type": "markdown",
      "metadata": {
        "id": "suR4y8piLc2x"
      },
      "source": [
        "Proses Data cleansing"
      ]
    },
    {
      "cell_type": "code",
      "execution_count": null,
      "metadata": {
        "id": "mcCK8PFUxgpO"
      },
      "outputs": [],
      "source": [
        "import re\n",
        "#Membuat fungsi untuk data cleansing\n",
        "def data_cleansing(text):\n",
        "  #Menghilangkan username\n",
        "  text = re.sub(r'@[^\\s]+','',text)\n",
        "  #Menghapus link \n",
        "  text = re.sub(r'http?://\\S+|www\\.\\S+','',text)\n",
        "  #Menghapus karakter dan angka\n",
        "  text = re.sub(r'[-+]?[0-9]+','',text)\n",
        "  text = re.sub(r'[^\\w\\s]','',text)\n",
        "  text = text.strip()\n",
        "  return text"
      ]
    },
    {
      "cell_type": "markdown",
      "metadata": {
        "id": "-Td6jXhELhlY"
      },
      "source": [
        "Hasil Data Cleansing"
      ]
    },
    {
      "cell_type": "code",
      "execution_count": null,
      "metadata": {
        "colab": {
          "base_uri": "https://localhost:8080/"
        },
        "id": "adv5aBgW5cMY",
        "outputId": "b22a910d-70ab-4571-9e7b-eaff72c3c45e"
      },
      "outputs": [
        {
          "name": "stdout",
          "output_type": "stream",
          "text": [
            "contoh sampel\t:  #BacktoBDM @bdm2502 bersama Ulin Yusron (@ulinyusron) membahas isu-isu tentang penundaan pemilu 2024. Ulin Yusron yang seorang relawan Jokowi dengan tegas menolak jabatan presiden tiga periode. Tonton video di sini: https://t.co/tVSTaXx97A https://t.co/zB52Un4cYl\n",
            "data cleansing\t:  BacktoBDM  bersama Ulin Yusron  membahas isuisu tentang penundaan pemilu  Ulin Yusron yang seorang relawan Jokowi dengan tegas menolak jabatan presiden tiga periode Tonton video di sini httpstcotVSTaXxA httpstcozBUncYl\n"
          ]
        }
      ],
      "source": [
        "contoh_sample = df['isi teks'].iloc[3]\n",
        "datacleansing = data_cleansing(contoh_sample)\n",
        "\n",
        "print('contoh sampel\\t: ', contoh_sample)\n",
        "print('data cleansing\\t: ', datacleansing)"
      ]
    },
    {
      "cell_type": "markdown",
      "metadata": {
        "id": "XQxjpS9nLjtD"
      },
      "source": [
        "Proses Case Folding\n",
        "Berdasarkan NLP by Stanford case folding menjadi lower text atau menjadi kata kecil karena memiliki string matching"
      ]
    },
    {
      "cell_type": "code",
      "execution_count": null,
      "metadata": {
        "id": "seZ6Ilbv-ZkY"
      },
      "outputs": [],
      "source": [
        "import string\n",
        "#fungsi mengubah huruf kapital menjadi huruf biasa\n",
        "def case_folding(text):\n",
        "  text = text.lower()\n",
        "  return text"
      ]
    },
    {
      "cell_type": "markdown",
      "metadata": {
        "id": "RTP4f4_qLm24"
      },
      "source": [
        "Hasil Case Folding"
      ]
    },
    {
      "cell_type": "code",
      "execution_count": null,
      "metadata": {
        "colab": {
          "base_uri": "https://localhost:8080/"
        },
        "id": "IfqPqfdR_huc",
        "outputId": "15c6aae1-2e1c-4eee-9acb-3c07e01195df"
      },
      "outputs": [
        {
          "name": "stdout",
          "output_type": "stream",
          "text": [
            "contoh sampel\t:  #BacktoBDM @bdm2502 bersama Ulin Yusron (@ulinyusron) membahas isu-isu tentang penundaan pemilu 2024. Ulin Yusron yang seorang relawan Jokowi dengan tegas menolak jabatan presiden tiga periode. Tonton video di sini: https://t.co/tVSTaXx97A https://t.co/zB52Un4cYl\n",
            "data cleansing\t:  BacktoBDM  bersama Ulin Yusron  membahas isuisu tentang penundaan pemilu  Ulin Yusron yang seorang relawan Jokowi dengan tegas menolak jabatan presiden tiga periode Tonton video di sini httpstcotVSTaXxA httpstcozBUncYl\n",
            "case folding\t:  backtobdm  bersama ulin yusron  membahas isuisu tentang penundaan pemilu  ulin yusron yang seorang relawan jokowi dengan tegas menolak jabatan presiden tiga periode tonton video di sini httpstcotvstaxxa httpstcozbuncyl\n"
          ]
        }
      ],
      "source": [
        "contoh_sample = df['isi teks'].iloc[3]\n",
        "datacleansing = data_cleansing(contoh_sample)\n",
        "casefolding = case_folding(datacleansing)\n",
        "\n",
        "print('contoh sampel\\t: ', contoh_sample)\n",
        "print('data cleansing\\t: ', datacleansing)\n",
        "print('case folding\\t: ', casefolding)"
      ]
    },
    {
      "cell_type": "markdown",
      "metadata": {
        "id": "SXLy0jHZynsq"
      },
      "source": [
        "Proses Normalization dan Tokenizing"
      ]
    },
    {
      "cell_type": "code",
      "execution_count": null,
      "metadata": {
        "colab": {
          "base_uri": "https://localhost:8080/"
        },
        "id": "neQaBmiWpQYW",
        "outputId": "8e62a077-1907-47b6-a8fe-59c8a1162d05"
      },
      "outputs": [
        {
          "name": "stdout",
          "output_type": "stream",
          "text": [
            "--2023-05-03 23:21:39--  https://raw.githubusercontent.com/ksnugroho/klasifikasi-spam-sms/master/data/key_norm.csv\n",
            "Resolving raw.githubusercontent.com (raw.githubusercontent.com)... 185.199.108.133, 185.199.109.133, 185.199.110.133, ...\n",
            "Connecting to raw.githubusercontent.com (raw.githubusercontent.com)|185.199.108.133|:443... connected.\n",
            "HTTP request sent, awaiting response... 200 OK\n",
            "Length: 80969 (79K) [text/plain]\n",
            "Saving to: ‘key_norm.csv’\n",
            "\n",
            "\rkey_norm.csv          0%[                    ]       0  --.-KB/s               \rkey_norm.csv        100%[===================>]  79.07K  --.-KB/s    in 0.01s   \n",
            "\n",
            "2023-05-03 23:21:39 (5.99 MB/s) - ‘key_norm.csv’ saved [80969/80969]\n",
            "\n"
          ]
        }
      ],
      "source": [
        "!wget https://raw.githubusercontent.com/ksnugroho/klasifikasi-spam-sms/master/data/key_norm.csv"
      ]
    },
    {
      "cell_type": "code",
      "execution_count": null,
      "metadata": {
        "colab": {
          "base_uri": "https://localhost:8080/"
        },
        "id": "DOhfg9IwpZCO",
        "outputId": "f64ca930-17ab-4c0f-8803-1074ea42e544"
      },
      "outputs": [
        {
          "name": "stdout",
          "output_type": "stream",
          "text": [
            "   _id      singkat       hasil\n",
            "0    1         abis       habis\n",
            "1    2       accent     tekanan\n",
            "2    3       accept      terima\n",
            "3    4     accident  kecelakaan\n",
            "4    5  achievement    prestasi\n"
          ]
        },
        {
          "data": {
            "text/plain": [
              "(3720, 3)"
            ]
          },
          "execution_count": 13,
          "metadata": {},
          "output_type": "execute_result"
        }
      ],
      "source": [
        "key_normal = pd.read_csv('key_norm.csv')\n",
        "print(key_normal.head())\n",
        "\n",
        "key_normal.shape"
      ]
    },
    {
      "cell_type": "code",
      "execution_count": null,
      "metadata": {
        "id": "ozlr7iW2pruE"
      },
      "outputs": [],
      "source": [
        "def text_normalize(text):\n",
        "   text = ' '.join([key_normal[key_normal['singkat'] == word]['hasil'].values[0] \n",
        "      if (key_normal['singkat'] == word).any() \n",
        "      else word for word in text.split()])\n",
        "   text = str.lower(text) \n",
        "   return text"
      ]
    },
    {
      "cell_type": "code",
      "execution_count": null,
      "metadata": {
        "colab": {
          "base_uri": "https://localhost:8080/"
        },
        "id": "91iQn2Ap3fYj",
        "outputId": "b45822e3-c1a9-454c-886f-1b7e7b7c408e"
      },
      "outputs": [
        {
          "name": "stderr",
          "output_type": "stream",
          "text": [
            "[nltk_data] Downloading package punkt to /root/nltk_data...\n",
            "[nltk_data]   Unzipping tokenizers/punkt.zip.\n"
          ]
        }
      ],
      "source": [
        "import nltk\n",
        "from nltk.tokenize import word_tokenize,sent_tokenize\n",
        "from nltk.probability import FreqDist\n",
        "nltk.download(\"punkt\")\n",
        "\n",
        "def tokenizing(text):\n",
        "  text = word_tokenize(text)\n",
        "  return text"
      ]
    },
    {
      "cell_type": "code",
      "execution_count": null,
      "metadata": {
        "colab": {
          "base_uri": "https://localhost:8080/"
        },
        "id": "4h3a2e6jGfJZ",
        "outputId": "b1d59e6c-122b-4da2-dd86-14c8d6d1593d"
      },
      "outputs": [
        {
          "name": "stdout",
          "output_type": "stream",
          "text": [
            "contoh sampel\t:  #BacktoBDM @bdm2502 bersama Ulin Yusron (@ulinyusron) membahas isu-isu tentang penundaan pemilu 2024. Ulin Yusron yang seorang relawan Jokowi dengan tegas menolak jabatan presiden tiga periode. Tonton video di sini: https://t.co/tVSTaXx97A https://t.co/zB52Un4cYl\n",
            "data cleansing\t:  BacktoBDM  bersama Ulin Yusron  membahas isuisu tentang penundaan pemilu  Ulin Yusron yang seorang relawan Jokowi dengan tegas menolak jabatan presiden tiga periode Tonton video di sini httpstcotVSTaXxA httpstcozBUncYl\n",
            "case folding\t:  backtobdm  bersama ulin yusron  membahas isuisu tentang penundaan pemilu  ulin yusron yang seorang relawan jokowi dengan tegas menolak jabatan presiden tiga periode tonton video di sini httpstcotvstaxxa httpstcozbuncyl\n",
            "tokenizing\t:  ['backtobdm', 'bersama', 'ulin', 'yusron', 'membahas', 'isuisu', 'tentang', 'penundaan', 'pemilu', 'ulin', 'yusron', 'yang', 'seorang', 'relawan', 'jokowi', 'dengan', 'tegas', 'menolak', 'jabatan', 'presiden', 'tiga', 'periode', 'tonton', 'video', 'di', 'sini', 'httpstcotvstaxxa', 'httpstcozbuncyl']\n"
          ]
        }
      ],
      "source": [
        "contoh_sample = df['isi teks'].iloc[3]\n",
        "datacleansing = data_cleansing(contoh_sample)\n",
        "casefolding = case_folding(datacleansing)\n",
        "token = tokenizing(casefolding)\n",
        "\n",
        "print('contoh sampel\\t: ', contoh_sample)\n",
        "print('data cleansing\\t: ', datacleansing)\n",
        "print('case folding\\t: ', casefolding)\n",
        "print('tokenizing\\t: ', token)\n"
      ]
    },
    {
      "cell_type": "markdown",
      "metadata": {
        "id": "DkrBQYewLwFu"
      },
      "source": [
        "Proses Stopword"
      ]
    },
    {
      "cell_type": "code",
      "execution_count": null,
      "metadata": {
        "id": "t3biBcBmLahM",
        "colab": {
          "base_uri": "https://localhost:8080/"
        },
        "outputId": "180799f1-39ba-42c3-8d64-e77b4131a479"
      },
      "outputs": [
        {
          "output_type": "stream",
          "name": "stderr",
          "text": [
            "[nltk_data] Downloading package stopwords to /root/nltk_data...\n",
            "[nltk_data]   Unzipping corpora/stopwords.zip.\n"
          ]
        },
        {
          "output_type": "execute_result",
          "data": {
            "text/plain": [
              "['ada',\n",
              " 'adalah',\n",
              " 'adanya',\n",
              " 'adapun',\n",
              " 'agak',\n",
              " 'agaknya',\n",
              " 'agar',\n",
              " 'akan',\n",
              " 'akankah',\n",
              " 'akhir',\n",
              " 'akhiri',\n",
              " 'akhirnya',\n",
              " 'aku',\n",
              " 'akulah',\n",
              " 'amat',\n",
              " 'amatlah',\n",
              " 'anda',\n",
              " 'andalah',\n",
              " 'antar',\n",
              " 'antara',\n",
              " 'antaranya',\n",
              " 'apa',\n",
              " 'apaan',\n",
              " 'apabila',\n",
              " 'apakah',\n",
              " 'apalagi',\n",
              " 'apatah',\n",
              " 'artinya',\n",
              " 'asal',\n",
              " 'asalkan',\n",
              " 'atas',\n",
              " 'atau',\n",
              " 'ataukah',\n",
              " 'ataupun',\n",
              " 'awal',\n",
              " 'awalnya',\n",
              " 'bagai',\n",
              " 'bagaikan',\n",
              " 'bagaimana',\n",
              " 'bagaimanakah',\n",
              " 'bagaimanapun',\n",
              " 'bagi',\n",
              " 'bagian',\n",
              " 'bahkan',\n",
              " 'bahwa',\n",
              " 'bahwasanya',\n",
              " 'baik',\n",
              " 'bakal',\n",
              " 'bakalan',\n",
              " 'balik',\n",
              " 'banyak',\n",
              " 'bapak',\n",
              " 'baru',\n",
              " 'bawah',\n",
              " 'beberapa',\n",
              " 'begini',\n",
              " 'beginian',\n",
              " 'beginikah',\n",
              " 'beginilah',\n",
              " 'begitu',\n",
              " 'begitukah',\n",
              " 'begitulah',\n",
              " 'begitupun',\n",
              " 'bekerja',\n",
              " 'belakang',\n",
              " 'belakangan',\n",
              " 'belum',\n",
              " 'belumlah',\n",
              " 'benar',\n",
              " 'benarkah',\n",
              " 'benarlah',\n",
              " 'berada',\n",
              " 'berakhir',\n",
              " 'berakhirlah',\n",
              " 'berakhirnya',\n",
              " 'berapa',\n",
              " 'berapakah',\n",
              " 'berapalah',\n",
              " 'berapapun',\n",
              " 'berarti',\n",
              " 'berawal',\n",
              " 'berbagai',\n",
              " 'berdatangan',\n",
              " 'beri',\n",
              " 'berikan',\n",
              " 'berikut',\n",
              " 'berikutnya',\n",
              " 'berjumlah',\n",
              " 'berkali-kali',\n",
              " 'berkata',\n",
              " 'berkehendak',\n",
              " 'berkeinginan',\n",
              " 'berkenaan',\n",
              " 'berlainan',\n",
              " 'berlalu',\n",
              " 'berlangsung',\n",
              " 'berlebihan',\n",
              " 'bermacam',\n",
              " 'bermacam-macam',\n",
              " 'bermaksud',\n",
              " 'bermula',\n",
              " 'bersama',\n",
              " 'bersama-sama',\n",
              " 'bersiap',\n",
              " 'bersiap-siap',\n",
              " 'bertanya',\n",
              " 'bertanya-tanya',\n",
              " 'berturut',\n",
              " 'berturut-turut',\n",
              " 'bertutur',\n",
              " 'berujar',\n",
              " 'berupa',\n",
              " 'besar',\n",
              " 'betul',\n",
              " 'betulkah',\n",
              " 'biasa',\n",
              " 'biasanya',\n",
              " 'bila',\n",
              " 'bilakah',\n",
              " 'bisa',\n",
              " 'bisakah',\n",
              " 'boleh',\n",
              " 'bolehkah',\n",
              " 'bolehlah',\n",
              " 'buat',\n",
              " 'bukan',\n",
              " 'bukankah',\n",
              " 'bukanlah',\n",
              " 'bukannya',\n",
              " 'bulan',\n",
              " 'bung',\n",
              " 'cara',\n",
              " 'caranya',\n",
              " 'cukup',\n",
              " 'cukupkah',\n",
              " 'cukuplah',\n",
              " 'cuma',\n",
              " 'dahulu',\n",
              " 'dalam',\n",
              " 'dan',\n",
              " 'dapat',\n",
              " 'dari',\n",
              " 'daripada',\n",
              " 'datang',\n",
              " 'dekat',\n",
              " 'demi',\n",
              " 'demikian',\n",
              " 'demikianlah',\n",
              " 'dengan',\n",
              " 'depan',\n",
              " 'di',\n",
              " 'dia',\n",
              " 'diakhiri',\n",
              " 'diakhirinya',\n",
              " 'dialah',\n",
              " 'diantara',\n",
              " 'diantaranya',\n",
              " 'diberi',\n",
              " 'diberikan',\n",
              " 'diberikannya',\n",
              " 'dibuat',\n",
              " 'dibuatnya',\n",
              " 'didapat',\n",
              " 'didatangkan',\n",
              " 'digunakan',\n",
              " 'diibaratkan',\n",
              " 'diibaratkannya',\n",
              " 'diingat',\n",
              " 'diingatkan',\n",
              " 'diinginkan',\n",
              " 'dijawab',\n",
              " 'dijelaskan',\n",
              " 'dijelaskannya',\n",
              " 'dikarenakan',\n",
              " 'dikatakan',\n",
              " 'dikatakannya',\n",
              " 'dikerjakan',\n",
              " 'diketahui',\n",
              " 'diketahuinya',\n",
              " 'dikira',\n",
              " 'dilakukan',\n",
              " 'dilalui',\n",
              " 'dilihat',\n",
              " 'dimaksud',\n",
              " 'dimaksudkan',\n",
              " 'dimaksudkannya',\n",
              " 'dimaksudnya',\n",
              " 'diminta',\n",
              " 'dimintai',\n",
              " 'dimisalkan',\n",
              " 'dimulai',\n",
              " 'dimulailah',\n",
              " 'dimulainya',\n",
              " 'dimungkinkan',\n",
              " 'dini',\n",
              " 'dipastikan',\n",
              " 'diperbuat',\n",
              " 'diperbuatnya',\n",
              " 'dipergunakan',\n",
              " 'diperkirakan',\n",
              " 'diperlihatkan',\n",
              " 'diperlukan',\n",
              " 'diperlukannya',\n",
              " 'dipersoalkan',\n",
              " 'dipertanyakan',\n",
              " 'dipunyai',\n",
              " 'diri',\n",
              " 'dirinya',\n",
              " 'disampaikan',\n",
              " 'disebut',\n",
              " 'disebutkan',\n",
              " 'disebutkannya',\n",
              " 'disini',\n",
              " 'disinilah',\n",
              " 'ditambahkan',\n",
              " 'ditandaskan',\n",
              " 'ditanya',\n",
              " 'ditanyai',\n",
              " 'ditanyakan',\n",
              " 'ditegaskan',\n",
              " 'ditujukan',\n",
              " 'ditunjuk',\n",
              " 'ditunjuki',\n",
              " 'ditunjukkan',\n",
              " 'ditunjukkannya',\n",
              " 'ditunjuknya',\n",
              " 'dituturkan',\n",
              " 'dituturkannya',\n",
              " 'diucapkan',\n",
              " 'diucapkannya',\n",
              " 'diungkapkan',\n",
              " 'dong',\n",
              " 'dua',\n",
              " 'dulu',\n",
              " 'empat',\n",
              " 'enggak',\n",
              " 'enggaknya',\n",
              " 'entah',\n",
              " 'entahlah',\n",
              " 'guna',\n",
              " 'gunakan',\n",
              " 'hal',\n",
              " 'hampir',\n",
              " 'hanya',\n",
              " 'hanyalah',\n",
              " 'hari',\n",
              " 'harus',\n",
              " 'haruslah',\n",
              " 'harusnya',\n",
              " 'hendak',\n",
              " 'hendaklah',\n",
              " 'hendaknya',\n",
              " 'hingga',\n",
              " 'ia',\n",
              " 'ialah',\n",
              " 'ibarat',\n",
              " 'ibaratkan',\n",
              " 'ibaratnya',\n",
              " 'ibu',\n",
              " 'ikut',\n",
              " 'ingat',\n",
              " 'ingat-ingat',\n",
              " 'ingin',\n",
              " 'inginkah',\n",
              " 'inginkan',\n",
              " 'ini',\n",
              " 'inikah',\n",
              " 'inilah',\n",
              " 'itu',\n",
              " 'itukah',\n",
              " 'itulah',\n",
              " 'jadi',\n",
              " 'jadilah',\n",
              " 'jadinya',\n",
              " 'jangan',\n",
              " 'jangankan',\n",
              " 'janganlah',\n",
              " 'jauh',\n",
              " 'jawab',\n",
              " 'jawaban',\n",
              " 'jawabnya',\n",
              " 'jelas',\n",
              " 'jelaskan',\n",
              " 'jelaslah',\n",
              " 'jelasnya',\n",
              " 'jika',\n",
              " 'jikalau',\n",
              " 'juga',\n",
              " 'jumlah',\n",
              " 'jumlahnya',\n",
              " 'justru',\n",
              " 'kala',\n",
              " 'kalau',\n",
              " 'kalaulah',\n",
              " 'kalaupun',\n",
              " 'kalian',\n",
              " 'kami',\n",
              " 'kamilah',\n",
              " 'kamu',\n",
              " 'kamulah',\n",
              " 'kan',\n",
              " 'kapan',\n",
              " 'kapankah',\n",
              " 'kapanpun',\n",
              " 'karena',\n",
              " 'karenanya',\n",
              " 'kasus',\n",
              " 'kata',\n",
              " 'katakan',\n",
              " 'katakanlah',\n",
              " 'katanya',\n",
              " 'ke',\n",
              " 'keadaan',\n",
              " 'kebetulan',\n",
              " 'kecil',\n",
              " 'kedua',\n",
              " 'keduanya',\n",
              " 'keinginan',\n",
              " 'kelamaan',\n",
              " 'kelihatan',\n",
              " 'kelihatannya',\n",
              " 'kelima',\n",
              " 'keluar',\n",
              " 'kembali',\n",
              " 'kemudian',\n",
              " 'kemungkinan',\n",
              " 'kemungkinannya',\n",
              " 'kenapa',\n",
              " 'kepada',\n",
              " 'kepadanya',\n",
              " 'kesampaian',\n",
              " 'keseluruhan',\n",
              " 'keseluruhannya',\n",
              " 'keterlaluan',\n",
              " 'ketika',\n",
              " 'khususnya',\n",
              " 'kini',\n",
              " 'kinilah',\n",
              " 'kira',\n",
              " 'kira-kira',\n",
              " 'kiranya',\n",
              " 'kita',\n",
              " 'kitalah',\n",
              " 'kok',\n",
              " 'kurang',\n",
              " 'lagi',\n",
              " 'lagian',\n",
              " 'lah',\n",
              " 'lain',\n",
              " 'lainnya',\n",
              " 'lalu',\n",
              " 'lama',\n",
              " 'lamanya',\n",
              " 'lanjut',\n",
              " 'lanjutnya',\n",
              " 'lebih',\n",
              " 'lewat',\n",
              " 'lima',\n",
              " 'luar',\n",
              " 'macam',\n",
              " 'maka',\n",
              " 'makanya',\n",
              " 'makin',\n",
              " 'malah',\n",
              " 'malahan',\n",
              " 'mampu',\n",
              " 'mampukah',\n",
              " 'mana',\n",
              " 'manakala',\n",
              " 'manalagi',\n",
              " 'masa',\n",
              " 'masalah',\n",
              " 'masalahnya',\n",
              " 'masih',\n",
              " 'masihkah',\n",
              " 'masing',\n",
              " 'masing-masing',\n",
              " 'mau',\n",
              " 'maupun',\n",
              " 'melainkan',\n",
              " 'melakukan',\n",
              " 'melalui',\n",
              " 'melihat',\n",
              " 'melihatnya',\n",
              " 'memang',\n",
              " 'memastikan',\n",
              " 'memberi',\n",
              " 'memberikan',\n",
              " 'membuat',\n",
              " 'memerlukan',\n",
              " 'memihak',\n",
              " 'meminta',\n",
              " 'memintakan',\n",
              " 'memisalkan',\n",
              " 'memperbuat',\n",
              " 'mempergunakan',\n",
              " 'memperkirakan',\n",
              " 'memperlihatkan',\n",
              " 'mempersiapkan',\n",
              " 'mempersoalkan',\n",
              " 'mempertanyakan',\n",
              " 'mempunyai',\n",
              " 'memulai',\n",
              " 'memungkinkan',\n",
              " 'menaiki',\n",
              " 'menambahkan',\n",
              " 'menandaskan',\n",
              " 'menanti',\n",
              " 'menanti-nanti',\n",
              " 'menantikan',\n",
              " 'menanya',\n",
              " 'menanyai',\n",
              " 'menanyakan',\n",
              " 'mendapat',\n",
              " 'mendapatkan',\n",
              " 'mendatang',\n",
              " 'mendatangi',\n",
              " 'mendatangkan',\n",
              " 'menegaskan',\n",
              " 'mengakhiri',\n",
              " 'mengapa',\n",
              " 'mengatakan',\n",
              " 'mengatakannya',\n",
              " 'mengenai',\n",
              " 'mengerjakan',\n",
              " 'mengetahui',\n",
              " 'menggunakan',\n",
              " 'menghendaki',\n",
              " 'mengibaratkan',\n",
              " 'mengibaratkannya',\n",
              " 'mengingat',\n",
              " 'mengingatkan',\n",
              " 'menginginkan',\n",
              " 'mengira',\n",
              " 'mengucapkan',\n",
              " 'mengucapkannya',\n",
              " 'mengungkapkan',\n",
              " 'menjadi',\n",
              " 'menjawab',\n",
              " 'menjelaskan',\n",
              " 'menuju',\n",
              " 'menunjuk',\n",
              " 'menunjuki',\n",
              " 'menunjukkan',\n",
              " 'menunjuknya',\n",
              " 'menurut',\n",
              " 'menuturkan',\n",
              " 'menyampaikan',\n",
              " 'menyangkut',\n",
              " 'menyatakan',\n",
              " 'menyebutkan',\n",
              " 'menyeluruh',\n",
              " 'menyiapkan',\n",
              " 'merasa',\n",
              " 'mereka',\n",
              " 'merekalah',\n",
              " 'merupakan',\n",
              " 'meski',\n",
              " 'meskipun',\n",
              " 'meyakini',\n",
              " 'meyakinkan',\n",
              " 'minta',\n",
              " 'mirip',\n",
              " 'misal',\n",
              " 'misalkan',\n",
              " 'misalnya',\n",
              " 'mula',\n",
              " 'mulai',\n",
              " 'mulailah',\n",
              " 'mulanya',\n",
              " 'mungkin',\n",
              " 'mungkinkah',\n",
              " 'nah',\n",
              " 'naik',\n",
              " 'namun',\n",
              " 'nanti',\n",
              " 'nantinya',\n",
              " 'nyaris',\n",
              " 'nyatanya',\n",
              " 'oleh',\n",
              " 'olehnya',\n",
              " 'pada',\n",
              " 'padahal',\n",
              " 'padanya',\n",
              " 'pak',\n",
              " 'paling',\n",
              " 'panjang',\n",
              " 'pantas',\n",
              " 'para',\n",
              " 'pasti',\n",
              " 'pastilah',\n",
              " 'penting',\n",
              " 'pentingnya',\n",
              " 'per',\n",
              " 'percuma',\n",
              " 'perlu',\n",
              " 'perlukah',\n",
              " 'perlunya',\n",
              " 'pernah',\n",
              " 'persoalan',\n",
              " 'pertama',\n",
              " 'pertama-tama',\n",
              " 'pertanyaan',\n",
              " 'pertanyakan',\n",
              " 'pihak',\n",
              " 'pihaknya',\n",
              " 'pukul',\n",
              " 'pula',\n",
              " 'pun',\n",
              " 'punya',\n",
              " 'rasa',\n",
              " 'rasanya',\n",
              " 'rata',\n",
              " 'rupanya',\n",
              " 'saat',\n",
              " 'saatnya',\n",
              " 'saja',\n",
              " 'sajalah',\n",
              " 'saling',\n",
              " 'sama',\n",
              " 'sama-sama',\n",
              " 'sambil',\n",
              " 'sampai',\n",
              " 'sampai-sampai',\n",
              " 'sampaikan',\n",
              " 'sana',\n",
              " 'sangat',\n",
              " 'sangatlah',\n",
              " 'satu',\n",
              " 'saya',\n",
              " 'sayalah',\n",
              " 'se',\n",
              " 'sebab',\n",
              " 'sebabnya',\n",
              " 'sebagai',\n",
              " 'sebagaimana',\n",
              " 'sebagainya',\n",
              " 'sebagian',\n",
              " 'sebaik',\n",
              " 'sebaik-baiknya',\n",
              " 'sebaiknya',\n",
              " 'sebaliknya',\n",
              " 'sebanyak',\n",
              " 'sebegini',\n",
              " 'sebegitu',\n",
              " 'sebelum',\n",
              " 'sebelumnya',\n",
              " 'sebenarnya',\n",
              " 'seberapa',\n",
              " 'sebesar',\n",
              " 'sebetulnya',\n",
              " 'sebisanya',\n",
              " 'sebuah',\n",
              " 'sebut',\n",
              " 'sebutlah',\n",
              " 'sebutnya',\n",
              " 'secara',\n",
              " 'secukupnya',\n",
              " 'sedang',\n",
              " 'sedangkan',\n",
              " 'sedemikian',\n",
              " 'sedikit',\n",
              " 'sedikitnya',\n",
              " 'seenaknya',\n",
              " 'segala',\n",
              " 'segalanya',\n",
              " 'segera',\n",
              " 'seharusnya',\n",
              " 'sehingga',\n",
              " 'seingat',\n",
              " 'sejak',\n",
              " 'sejauh',\n",
              " 'sejenak',\n",
              " 'sejumlah',\n",
              " 'sekadar',\n",
              " 'sekadarnya',\n",
              " 'sekali',\n",
              " 'sekali-kali',\n",
              " 'sekalian',\n",
              " 'sekaligus',\n",
              " 'sekalipun',\n",
              " 'sekarang',\n",
              " 'sekarang',\n",
              " 'sekecil',\n",
              " 'seketika',\n",
              " 'sekiranya',\n",
              " 'sekitar',\n",
              " 'sekitarnya',\n",
              " 'sekurang-kurangnya',\n",
              " 'sekurangnya',\n",
              " 'sela',\n",
              " 'selain',\n",
              " 'selaku',\n",
              " 'selalu',\n",
              " 'selama',\n",
              " 'selama-lamanya',\n",
              " 'selamanya',\n",
              " 'selanjutnya',\n",
              " 'seluruh',\n",
              " 'seluruhnya',\n",
              " 'semacam',\n",
              " 'semakin',\n",
              " 'semampu',\n",
              " 'semampunya',\n",
              " 'semasa',\n",
              " 'semasih',\n",
              " 'semata',\n",
              " 'semata-mata',\n",
              " 'semaunya',\n",
              " 'sementara',\n",
              " 'semisal',\n",
              " 'semisalnya',\n",
              " 'sempat',\n",
              " 'semua',\n",
              " 'semuanya',\n",
              " 'semula',\n",
              " 'sendiri',\n",
              " 'sendirian',\n",
              " 'sendirinya',\n",
              " 'seolah',\n",
              " 'seolah-olah',\n",
              " 'seorang',\n",
              " 'sepanjang',\n",
              " 'sepantasnya',\n",
              " 'sepantasnyalah',\n",
              " 'seperlunya',\n",
              " 'seperti',\n",
              " 'sepertinya',\n",
              " 'sepihak',\n",
              " 'sering',\n",
              " 'seringnya',\n",
              " 'serta',\n",
              " 'serupa',\n",
              " 'sesaat',\n",
              " 'sesama',\n",
              " 'sesampai',\n",
              " 'sesegera',\n",
              " 'sesekali',\n",
              " 'seseorang',\n",
              " 'sesuatu',\n",
              " 'sesuatunya',\n",
              " 'sesudah',\n",
              " 'sesudahnya',\n",
              " 'setelah',\n",
              " 'setempat',\n",
              " 'setengah',\n",
              " 'seterusnya',\n",
              " 'setiap',\n",
              " 'setiba',\n",
              " 'setibanya',\n",
              " 'setidak-tidaknya',\n",
              " 'setidaknya',\n",
              " 'setinggi',\n",
              " 'seusai',\n",
              " 'sewaktu',\n",
              " 'siap',\n",
              " 'siapa',\n",
              " 'siapakah',\n",
              " 'siapapun',\n",
              " 'sini',\n",
              " 'sinilah',\n",
              " 'soal',\n",
              " 'soalnya',\n",
              " 'suatu',\n",
              " 'sudah',\n",
              " 'sudahkah',\n",
              " 'sudahlah',\n",
              " 'supaya',\n",
              " 'tadi',\n",
              " 'tadinya',\n",
              " 'tahu',\n",
              " 'tahun',\n",
              " 'tak',\n",
              " 'tambah',\n",
              " 'tambahnya',\n",
              " 'tampak',\n",
              " 'tampaknya',\n",
              " 'tandas',\n",
              " 'tandasnya',\n",
              " 'tanpa',\n",
              " 'tanya',\n",
              " 'tanyakan',\n",
              " 'tanyanya',\n",
              " 'tapi',\n",
              " 'tegas',\n",
              " 'tegasnya',\n",
              " 'telah',\n",
              " 'tempat',\n",
              " 'tengah',\n",
              " 'tentang',\n",
              " 'tentu',\n",
              " 'tentulah',\n",
              " 'tentunya',\n",
              " 'tepat',\n",
              " 'terakhir',\n",
              " 'terasa',\n",
              " 'terbanyak',\n",
              " 'terdahulu',\n",
              " 'terdapat',\n",
              " 'terdiri',\n",
              " 'terhadap',\n",
              " 'terhadapnya',\n",
              " 'teringat',\n",
              " 'teringat-ingat',\n",
              " 'terjadi',\n",
              " 'terjadilah',\n",
              " 'terjadinya',\n",
              " 'terkira',\n",
              " 'terlalu',\n",
              " 'terlebih',\n",
              " 'terlihat',\n",
              " 'termasuk',\n",
              " 'ternyata',\n",
              " 'tersampaikan',\n",
              " 'tersebut',\n",
              " 'tersebutlah',\n",
              " 'tertentu',\n",
              " 'tertuju',\n",
              " 'terus',\n",
              " 'terutama',\n",
              " 'tetap',\n",
              " 'tetapi',\n",
              " 'tiap',\n",
              " 'tiba',\n",
              " 'tiba-tiba',\n",
              " 'tidak',\n",
              " 'tidakkah',\n",
              " 'tidaklah',\n",
              " 'tiga',\n",
              " 'tinggi',\n",
              " 'toh',\n",
              " 'tunjuk',\n",
              " 'turut',\n",
              " 'tutur',\n",
              " 'tuturnya',\n",
              " 'ucap',\n",
              " 'ucapnya',\n",
              " 'ujar',\n",
              " 'ujarnya',\n",
              " 'umum',\n",
              " 'umumnya',\n",
              " 'ungkap',\n",
              " 'ungkapnya',\n",
              " 'untuk',\n",
              " 'usah',\n",
              " 'usai',\n",
              " 'waduh',\n",
              " 'wah',\n",
              " 'wahai',\n",
              " 'waktu',\n",
              " 'waktunya',\n",
              " 'walau',\n",
              " 'walaupun',\n",
              " 'wong',\n",
              " 'yaitu',\n",
              " 'yakin',\n",
              " 'yakni',\n",
              " 'yang']"
            ]
          },
          "metadata": {},
          "execution_count": 2
        }
      ],
      "source": [
        "import nltk\n",
        "from nltk.corpus import stopwords\n",
        "nltk.download(\"stopwords\")\n",
        "list_stopword = stopwords.words('indonesian')\n",
        "list_stopword"
      ]
    },
    {
      "cell_type": "markdown",
      "metadata": {
        "id": "enGfp_PS0eGE"
      },
      "source": [
        "# Mengetahui new_stopwordlist ada atau belum"
      ]
    },
    {
      "cell_type": "code",
      "execution_count": null,
      "metadata": {
        "id": "gTLvJGyYxCu9"
      },
      "outputs": [],
      "source": [
        "# mengetahui panjang stopword indonesia\n",
        "panjang_word = len(list_stopword)\n",
        "print(f\"Jumlah total stopword adalah = {panjang_word}\")\n"
      ]
    },
    {
      "cell_type": "code",
      "execution_count": null,
      "metadata": {
        "id": "H0VnPpO40lIt",
        "colab": {
          "base_uri": "https://localhost:8080/"
        },
        "outputId": "294f8acc-0859-41c7-d158-e0b26eb611e2"
      },
      "outputs": [
        {
          "output_type": "stream",
          "name": "stdout",
          "text": [
            "Masukkan kata stopword list baru dan ketik 'selesai' untuk berhenti input gacor\n",
            "Kata baru telah ditambahkan ke stopword lama\n",
            "Masukkan kata stopword list baru dan ketik 'selesai' untuk berhenti input tidak\n",
            "Kata yang diinputkan sudah ada di stopword lama\n",
            "List stopword:  ['ada', 'adalah', 'adanya', 'adapun', 'agak', 'agaknya', 'agar', 'akan', 'akankah', 'akhir', 'akhiri', 'akhirnya', 'aku', 'akulah', 'amat', 'amatlah', 'anda', 'andalah', 'antar', 'antara', 'antaranya', 'apa', 'apaan', 'apabila', 'apakah', 'apalagi', 'apatah', 'artinya', 'asal', 'asalkan', 'atas', 'atau', 'ataukah', 'ataupun', 'awal', 'awalnya', 'bagai', 'bagaikan', 'bagaimana', 'bagaimanakah', 'bagaimanapun', 'bagi', 'bagian', 'bahkan', 'bahwa', 'bahwasanya', 'baik', 'bakal', 'bakalan', 'balik', 'banyak', 'bapak', 'baru', 'bawah', 'beberapa', 'begini', 'beginian', 'beginikah', 'beginilah', 'begitu', 'begitukah', 'begitulah', 'begitupun', 'bekerja', 'belakang', 'belakangan', 'belum', 'belumlah', 'benar', 'benarkah', 'benarlah', 'berada', 'berakhir', 'berakhirlah', 'berakhirnya', 'berapa', 'berapakah', 'berapalah', 'berapapun', 'berarti', 'berawal', 'berbagai', 'berdatangan', 'beri', 'berikan', 'berikut', 'berikutnya', 'berjumlah', 'berkali-kali', 'berkata', 'berkehendak', 'berkeinginan', 'berkenaan', 'berlainan', 'berlalu', 'berlangsung', 'berlebihan', 'bermacam', 'bermacam-macam', 'bermaksud', 'bermula', 'bersama', 'bersama-sama', 'bersiap', 'bersiap-siap', 'bertanya', 'bertanya-tanya', 'berturut', 'berturut-turut', 'bertutur', 'berujar', 'berupa', 'besar', 'betul', 'betulkah', 'biasa', 'biasanya', 'bila', 'bilakah', 'bisa', 'bisakah', 'boleh', 'bolehkah', 'bolehlah', 'buat', 'bukan', 'bukankah', 'bukanlah', 'bukannya', 'bulan', 'bung', 'cara', 'caranya', 'cukup', 'cukupkah', 'cukuplah', 'cuma', 'dahulu', 'dalam', 'dan', 'dapat', 'dari', 'daripada', 'datang', 'dekat', 'demi', 'demikian', 'demikianlah', 'dengan', 'depan', 'di', 'dia', 'diakhiri', 'diakhirinya', 'dialah', 'diantara', 'diantaranya', 'diberi', 'diberikan', 'diberikannya', 'dibuat', 'dibuatnya', 'didapat', 'didatangkan', 'digunakan', 'diibaratkan', 'diibaratkannya', 'diingat', 'diingatkan', 'diinginkan', 'dijawab', 'dijelaskan', 'dijelaskannya', 'dikarenakan', 'dikatakan', 'dikatakannya', 'dikerjakan', 'diketahui', 'diketahuinya', 'dikira', 'dilakukan', 'dilalui', 'dilihat', 'dimaksud', 'dimaksudkan', 'dimaksudkannya', 'dimaksudnya', 'diminta', 'dimintai', 'dimisalkan', 'dimulai', 'dimulailah', 'dimulainya', 'dimungkinkan', 'dini', 'dipastikan', 'diperbuat', 'diperbuatnya', 'dipergunakan', 'diperkirakan', 'diperlihatkan', 'diperlukan', 'diperlukannya', 'dipersoalkan', 'dipertanyakan', 'dipunyai', 'diri', 'dirinya', 'disampaikan', 'disebut', 'disebutkan', 'disebutkannya', 'disini', 'disinilah', 'ditambahkan', 'ditandaskan', 'ditanya', 'ditanyai', 'ditanyakan', 'ditegaskan', 'ditujukan', 'ditunjuk', 'ditunjuki', 'ditunjukkan', 'ditunjukkannya', 'ditunjuknya', 'dituturkan', 'dituturkannya', 'diucapkan', 'diucapkannya', 'diungkapkan', 'dong', 'dua', 'dulu', 'empat', 'enggak', 'enggaknya', 'entah', 'entahlah', 'guna', 'gunakan', 'hal', 'hampir', 'hanya', 'hanyalah', 'hari', 'harus', 'haruslah', 'harusnya', 'hendak', 'hendaklah', 'hendaknya', 'hingga', 'ia', 'ialah', 'ibarat', 'ibaratkan', 'ibaratnya', 'ibu', 'ikut', 'ingat', 'ingat-ingat', 'ingin', 'inginkah', 'inginkan', 'ini', 'inikah', 'inilah', 'itu', 'itukah', 'itulah', 'jadi', 'jadilah', 'jadinya', 'jangan', 'jangankan', 'janganlah', 'jauh', 'jawab', 'jawaban', 'jawabnya', 'jelas', 'jelaskan', 'jelaslah', 'jelasnya', 'jika', 'jikalau', 'juga', 'jumlah', 'jumlahnya', 'justru', 'kala', 'kalau', 'kalaulah', 'kalaupun', 'kalian', 'kami', 'kamilah', 'kamu', 'kamulah', 'kan', 'kapan', 'kapankah', 'kapanpun', 'karena', 'karenanya', 'kasus', 'kata', 'katakan', 'katakanlah', 'katanya', 'ke', 'keadaan', 'kebetulan', 'kecil', 'kedua', 'keduanya', 'keinginan', 'kelamaan', 'kelihatan', 'kelihatannya', 'kelima', 'keluar', 'kembali', 'kemudian', 'kemungkinan', 'kemungkinannya', 'kenapa', 'kepada', 'kepadanya', 'kesampaian', 'keseluruhan', 'keseluruhannya', 'keterlaluan', 'ketika', 'khususnya', 'kini', 'kinilah', 'kira', 'kira-kira', 'kiranya', 'kita', 'kitalah', 'kok', 'kurang', 'lagi', 'lagian', 'lah', 'lain', 'lainnya', 'lalu', 'lama', 'lamanya', 'lanjut', 'lanjutnya', 'lebih', 'lewat', 'lima', 'luar', 'macam', 'maka', 'makanya', 'makin', 'malah', 'malahan', 'mampu', 'mampukah', 'mana', 'manakala', 'manalagi', 'masa', 'masalah', 'masalahnya', 'masih', 'masihkah', 'masing', 'masing-masing', 'mau', 'maupun', 'melainkan', 'melakukan', 'melalui', 'melihat', 'melihatnya', 'memang', 'memastikan', 'memberi', 'memberikan', 'membuat', 'memerlukan', 'memihak', 'meminta', 'memintakan', 'memisalkan', 'memperbuat', 'mempergunakan', 'memperkirakan', 'memperlihatkan', 'mempersiapkan', 'mempersoalkan', 'mempertanyakan', 'mempunyai', 'memulai', 'memungkinkan', 'menaiki', 'menambahkan', 'menandaskan', 'menanti', 'menanti-nanti', 'menantikan', 'menanya', 'menanyai', 'menanyakan', 'mendapat', 'mendapatkan', 'mendatang', 'mendatangi', 'mendatangkan', 'menegaskan', 'mengakhiri', 'mengapa', 'mengatakan', 'mengatakannya', 'mengenai', 'mengerjakan', 'mengetahui', 'menggunakan', 'menghendaki', 'mengibaratkan', 'mengibaratkannya', 'mengingat', 'mengingatkan', 'menginginkan', 'mengira', 'mengucapkan', 'mengucapkannya', 'mengungkapkan', 'menjadi', 'menjawab', 'menjelaskan', 'menuju', 'menunjuk', 'menunjuki', 'menunjukkan', 'menunjuknya', 'menurut', 'menuturkan', 'menyampaikan', 'menyangkut', 'menyatakan', 'menyebutkan', 'menyeluruh', 'menyiapkan', 'merasa', 'mereka', 'merekalah', 'merupakan', 'meski', 'meskipun', 'meyakini', 'meyakinkan', 'minta', 'mirip', 'misal', 'misalkan', 'misalnya', 'mula', 'mulai', 'mulailah', 'mulanya', 'mungkin', 'mungkinkah', 'nah', 'naik', 'namun', 'nanti', 'nantinya', 'nyaris', 'nyatanya', 'oleh', 'olehnya', 'pada', 'padahal', 'padanya', 'pak', 'paling', 'panjang', 'pantas', 'para', 'pasti', 'pastilah', 'penting', 'pentingnya', 'per', 'percuma', 'perlu', 'perlukah', 'perlunya', 'pernah', 'persoalan', 'pertama', 'pertama-tama', 'pertanyaan', 'pertanyakan', 'pihak', 'pihaknya', 'pukul', 'pula', 'pun', 'punya', 'rasa', 'rasanya', 'rata', 'rupanya', 'saat', 'saatnya', 'saja', 'sajalah', 'saling', 'sama', 'sama-sama', 'sambil', 'sampai', 'sampai-sampai', 'sampaikan', 'sana', 'sangat', 'sangatlah', 'satu', 'saya', 'sayalah', 'se', 'sebab', 'sebabnya', 'sebagai', 'sebagaimana', 'sebagainya', 'sebagian', 'sebaik', 'sebaik-baiknya', 'sebaiknya', 'sebaliknya', 'sebanyak', 'sebegini', 'sebegitu', 'sebelum', 'sebelumnya', 'sebenarnya', 'seberapa', 'sebesar', 'sebetulnya', 'sebisanya', 'sebuah', 'sebut', 'sebutlah', 'sebutnya', 'secara', 'secukupnya', 'sedang', 'sedangkan', 'sedemikian', 'sedikit', 'sedikitnya', 'seenaknya', 'segala', 'segalanya', 'segera', 'seharusnya', 'sehingga', 'seingat', 'sejak', 'sejauh', 'sejenak', 'sejumlah', 'sekadar', 'sekadarnya', 'sekali', 'sekali-kali', 'sekalian', 'sekaligus', 'sekalipun', 'sekarang', 'sekarang', 'sekecil', 'seketika', 'sekiranya', 'sekitar', 'sekitarnya', 'sekurang-kurangnya', 'sekurangnya', 'sela', 'selain', 'selaku', 'selalu', 'selama', 'selama-lamanya', 'selamanya', 'selanjutnya', 'seluruh', 'seluruhnya', 'semacam', 'semakin', 'semampu', 'semampunya', 'semasa', 'semasih', 'semata', 'semata-mata', 'semaunya', 'sementara', 'semisal', 'semisalnya', 'sempat', 'semua', 'semuanya', 'semula', 'sendiri', 'sendirian', 'sendirinya', 'seolah', 'seolah-olah', 'seorang', 'sepanjang', 'sepantasnya', 'sepantasnyalah', 'seperlunya', 'seperti', 'sepertinya', 'sepihak', 'sering', 'seringnya', 'serta', 'serupa', 'sesaat', 'sesama', 'sesampai', 'sesegera', 'sesekali', 'seseorang', 'sesuatu', 'sesuatunya', 'sesudah', 'sesudahnya', 'setelah', 'setempat', 'setengah', 'seterusnya', 'setiap', 'setiba', 'setibanya', 'setidak-tidaknya', 'setidaknya', 'setinggi', 'seusai', 'sewaktu', 'siap', 'siapa', 'siapakah', 'siapapun', 'sini', 'sinilah', 'soal', 'soalnya', 'suatu', 'sudah', 'sudahkah', 'sudahlah', 'supaya', 'tadi', 'tadinya', 'tahu', 'tahun', 'tak', 'tambah', 'tambahnya', 'tampak', 'tampaknya', 'tandas', 'tandasnya', 'tanpa', 'tanya', 'tanyakan', 'tanyanya', 'tapi', 'tegas', 'tegasnya', 'telah', 'tempat', 'tengah', 'tentang', 'tentu', 'tentulah', 'tentunya', 'tepat', 'terakhir', 'terasa', 'terbanyak', 'terdahulu', 'terdapat', 'terdiri', 'terhadap', 'terhadapnya', 'teringat', 'teringat-ingat', 'terjadi', 'terjadilah', 'terjadinya', 'terkira', 'terlalu', 'terlebih', 'terlihat', 'termasuk', 'ternyata', 'tersampaikan', 'tersebut', 'tersebutlah', 'tertentu', 'tertuju', 'terus', 'terutama', 'tetap', 'tetapi', 'tiap', 'tiba', 'tiba-tiba', 'tidak', 'tidakkah', 'tidaklah', 'tiga', 'tinggi', 'toh', 'tunjuk', 'turut', 'tutur', 'tuturnya', 'ucap', 'ucapnya', 'ujar', 'ujarnya', 'umum', 'umumnya', 'ungkap', 'ungkapnya', 'untuk', 'usah', 'usai', 'waduh', 'wah', 'wahai', 'waktu', 'waktunya', 'walau', 'walaupun', 'wong', 'yaitu', 'yakin', 'yakni', 'yang', 'gacor']\n"
          ]
        }
      ],
      "source": [
        "#menambahkan stopword baru manual.\n",
        "#kemudian dicek di list_stopword apakah ada atau tidak.\n",
        "\n",
        "while True:\n",
        "    # menginputkan kata baru\n",
        "    list_baru = input(\"Masukkan kata stopword list baru dan ketik 'selesai' untuk berhenti input \")\n",
        "    # berhenti looping\n",
        "    if list_baru == \"selesai\":\n",
        "      break\n",
        "\n",
        "    # mengecek apakah semua elemen sudah ada di list lama\n",
        "    if list_baru in list_stopword:\n",
        "        print(\"Kata yang diinputkan sudah ada di stopword lama\")\n",
        "        break\n",
        "    else:\n",
        "        list_stopword.append(list_baru)\n",
        "        print(\"Kata baru telah ditambahkan ke stopword lama\")\n",
        "\n",
        "print(\"List stopword: \", list_stopword)"
      ]
    },
    {
      "cell_type": "code",
      "execution_count": null,
      "metadata": {
        "colab": {
          "background_save": true
        },
        "id": "AocSOZp5Zp3v"
      },
      "outputs": [],
      "source": [
        "#menambahkan stopwordlist\n",
        "stopword_baru = [\"yg\", \"dg\", \"rt\", \"dgn\", \"ny\", \"d\",\n",
        "'klo', 'kalo', 'amp', 'biar', 'bikin','kaa','rt', '&amp', 'yah',\n",
        "'bilang', 'gak', 'ga', 'krn', 'nya', 'sdh', 'aja', 'n', 't', 'nyg', 'nih', 'sih', 'si', \n",
        "'tau', 'tdk', 'tuh', 'utk', 'ya', 'jd', 'jgn',\n",
        "'hehe', 'pen', 'u', 'nan', 'loh', 'y', 'org','gub','unt','kalm','ngetuit']\n",
        "list_stopword = list_stopword + stopword_baru\n",
        "list_stopword.remove('tiga')\n"
      ]
    },
    {
      "cell_type": "code",
      "execution_count": null,
      "metadata": {
        "id": "dYdg6PqUrC_q"
      },
      "outputs": [],
      "source": []
    },
    {
      "cell_type": "markdown",
      "metadata": {
        "id": "jY1jUkIS5iLE"
      },
      "source": [
        "Definisi Kelas Stopwords"
      ]
    },
    {
      "cell_type": "code",
      "execution_count": null,
      "metadata": {
        "id": "2NoIMNjVar4l"
      },
      "outputs": [],
      "source": [
        "def stop_words(text):\n",
        "  data_bersih = [] #membuat list kosong\n",
        "  text = text.split() #membagi teks\n",
        "  for word in text:\n",
        "    if word not in list_stopword:\n",
        "        clean_words.append(word)\n",
        "  return\" \".join(data_bersih)"
      ]
    },
    {
      "cell_type": "markdown",
      "metadata": {
        "id": "IEVa-2vA5tOz"
      },
      "source": [
        "Hasil Stopwords"
      ]
    },
    {
      "cell_type": "code",
      "execution_count": null,
      "metadata": {
        "colab": {
          "base_uri": "https://localhost:8080/"
        },
        "id": "AAIuU-qK5mJd",
        "outputId": "8a3fa193-43cb-47b4-9bfd-96d713bb2d0b"
      },
      "outputs": [
        {
          "name": "stdout",
          "output_type": "stream",
          "text": [
            "contoh sampel\t:  #BacktoBDM @bdm2502 bersama Ulin Yusron (@ulinyusron) membahas isu-isu tentang penundaan pemilu 2024. Ulin Yusron yang seorang relawan Jokowi dengan tegas menolak jabatan presiden tiga periode. Tonton video di sini: https://t.co/tVSTaXx97A https://t.co/zB52Un4cYl\n",
            "data cleansing\t:  BacktoBDM  bersama Ulin Yusron  membahas isuisu tentang penundaan pemilu  Ulin Yusron yang seorang relawan Jokowi dengan tegas menolak jabatan presiden tiga periode Tonton video di sini\n",
            "case folding\t:  backtobdm  bersama ulin yusron  membahas isuisu tentang penundaan pemilu  ulin yusron yang seorang relawan jokowi dengan tegas menolak jabatan presiden tiga periode tonton video di sini\n",
            "stopwords\t:  backtobdm ulin yusron membahas isuisu penundaan pemilu ulin yusron relawan jokowi menolak jabatan presiden tiga periode tonton video\n"
          ]
        }
      ],
      "source": [
        "contoh_sample = df['isi teks'].iloc[3]\n",
        "datacleansing = data_cleansing(contoh_sample)\n",
        "casefolding = case_folding(datacleansing)\n",
        "stopwords = stop_words(casefolding)\n",
        "\n",
        "print('contoh sampel\\t: ', contoh_sample)\n",
        "print('data cleansing\\t: ', datacleansing)\n",
        "print('case folding\\t: ', casefolding)\n",
        "print('stopwords\\t: ', stopwords)"
      ]
    },
    {
      "cell_type": "markdown",
      "metadata": {
        "id": "N-7BFV7wMiKF"
      },
      "source": [
        "Proses Stemming"
      ]
    },
    {
      "cell_type": "code",
      "execution_count": null,
      "metadata": {
        "colab": {
          "base_uri": "https://localhost:8080/"
        },
        "id": "B9DY95trP86x",
        "outputId": "80bc6b3d-878d-44e4-d7e3-cf678ebd6923"
      },
      "outputs": [
        {
          "name": "stdout",
          "output_type": "stream",
          "text": [
            "Looking in indexes: https://pypi.org/simple, https://us-python.pkg.dev/colab-wheels/public/simple/\n",
            "Collecting PySastrawi\n",
            "  Downloading PySastrawi-1.2.0-py2.py3-none-any.whl (210 kB)\n",
            "\u001b[2K     \u001b[90m━━━━━━━━━━━━━━━━━━━━━━━━━━━━━━━━━━━━━━\u001b[0m \u001b[32m210.6/210.6 kB\u001b[0m \u001b[31m11.5 MB/s\u001b[0m eta \u001b[36m0:00:00\u001b[0m\n",
            "\u001b[?25hInstalling collected packages: PySastrawi\n",
            "Successfully installed PySastrawi-1.2.0\n"
          ]
        }
      ],
      "source": [
        "pip install PySastrawi"
      ]
    },
    {
      "cell_type": "code",
      "execution_count": null,
      "metadata": {
        "id": "NMrb8tVZLPhG"
      },
      "outputs": [],
      "source": [
        "#mengimport library stemming\n",
        "from Sastrawi.Stemmer.StemmerFactory import StemmerFactory\n",
        "# buat stem\n",
        "factory = StemmerFactory()\n",
        "stemmer = factory.create_stemmer()\n",
        "def stemming(text):\n",
        "  text = stemmer.stem(text)\n",
        "  return text\n"
      ]
    },
    {
      "cell_type": "markdown",
      "metadata": {
        "id": "Q498PNfpRbJW"
      },
      "source": [
        "Hasil Stemming"
      ]
    },
    {
      "cell_type": "code",
      "execution_count": null,
      "metadata": {
        "colab": {
          "base_uri": "https://localhost:8080/"
        },
        "id": "L5cMs4HhRdIl",
        "outputId": "058c2899-7552-4738-ca1f-109d780c66f0"
      },
      "outputs": [
        {
          "name": "stdout",
          "output_type": "stream",
          "text": [
            "contoh sampel\t:  #BacktoBDM @bdm2502 bersama Ulin Yusron (@ulinyusron) membahas isu-isu tentang penundaan pemilu 2024. Ulin Yusron yang seorang relawan Jokowi dengan tegas menolak jabatan presiden tiga periode. Tonton video di sini: https://t.co/tVSTaXx97A https://t.co/zB52Un4cYl\n",
            "data cleansing\t:  BacktoBDM  bersama Ulin Yusron  membahas isuisu tentang penundaan pemilu  Ulin Yusron yang seorang relawan Jokowi dengan tegas menolak jabatan presiden tiga periode Tonton video di sini\n",
            "case folding\t:  backtobdm  bersama ulin yusron  membahas isuisu tentang penundaan pemilu  ulin yusron yang seorang relawan jokowi dengan tegas menolak jabatan presiden tiga periode tonton video di sini\n",
            "stopwords\t:  backtobdm ulin yusron membahas isuisu penundaan pemilu ulin yusron relawan jokowi menolak jabatan presiden tiga periode tonton video\n",
            "stemming\t:  backtobdm ulin yusron bahas isuisu tunda milu ulin yusron rawan jokowi tolak jabat presiden tiga periode tonton video\n"
          ]
        }
      ],
      "source": [
        "contoh_sample = df['isi teks'].iloc[3]\n",
        "datacleansing = data_cleansing(contoh_sample)\n",
        "casefolding = case_folding(datacleansing)\n",
        "stopwords = stop_words(casefolding)\n",
        "stem = stemming(stopwords)\n",
        "\n",
        "print('contoh sampel\\t: ', contoh_sample)\n",
        "print('data cleansing\\t: ', datacleansing)\n",
        "print('case folding\\t: ', casefolding)\n",
        "print('stopwords\\t: ', stopwords)\n",
        "print('stemming\\t: ', stem)"
      ]
    },
    {
      "cell_type": "code",
      "execution_count": null,
      "metadata": {
        "id": "jSzhvjwBf4_C"
      },
      "outputs": [],
      "source": [
        "#preprocessing pipeline\n",
        "def text_preprocessing_proses(text):\n",
        "    text = data_cleansing(text)\n",
        "    text = case_folding(text)\n",
        "    text = text_normalize(text)\n",
        "    text = stop_words(text)\n",
        "    text = stemming(text)\n",
        "    return text"
      ]
    },
    {
      "cell_type": "code",
      "execution_count": null,
      "metadata": {
        "colab": {
          "base_uri": "https://localhost:8080/",
          "height": 206
        },
        "id": "KxCstqf8tGm-",
        "outputId": "fe30b3f5-a0e7-4f87-8001-a8062cbfa27e"
      },
      "outputs": [
        {
          "data": {
            "text/html": [
              "\n",
              "  <div id=\"df-312b0e2a-87b2-4e7c-b3c9-a981451c8765\">\n",
              "    <div class=\"colab-df-container\">\n",
              "      <div>\n",
              "<style scoped>\n",
              "    .dataframe tbody tr th:only-of-type {\n",
              "        vertical-align: middle;\n",
              "    }\n",
              "\n",
              "    .dataframe tbody tr th {\n",
              "        vertical-align: top;\n",
              "    }\n",
              "\n",
              "    .dataframe thead th {\n",
              "        text-align: right;\n",
              "    }\n",
              "</style>\n",
              "<table border=\"1\" class=\"dataframe\">\n",
              "  <thead>\n",
              "    <tr style=\"text-align: right;\">\n",
              "      <th></th>\n",
              "      <th>isi teks</th>\n",
              "      <th>data_bersih</th>\n",
              "    </tr>\n",
              "  </thead>\n",
              "  <tbody>\n",
              "    <tr>\n",
              "      <th>0</th>\n",
              "      <td>\"Kondisi bangsa ini menghadapi kenyataan bahwa...</td>\n",
              "      <td>kondisi bangsa hadap nyata hormat jokowi bench...</td>\n",
              "    </tr>\n",
              "    <tr>\n",
              "      <th>1</th>\n",
              "      <td>\"Tiga periode itu proyek mimpi. Saat ini Jokow...</td>\n",
              "      <td>tiga periode proyek mimpi jokowi hadap sadar m...</td>\n",
              "    </tr>\n",
              "    <tr>\n",
              "      <th>2</th>\n",
              "      <td>\"Tolak penundaan pemilu dan masa perpangjang j...</td>\n",
              "      <td>tolak tunda milu perpangjang jabat presiden pr...</td>\n",
              "    </tr>\n",
              "    <tr>\n",
              "      <th>3</th>\n",
              "      <td>#BacktoBDM @bdm2502 bersama Ulin Yusron (@ulin...</td>\n",
              "      <td>backtobdm ulin yusron bahas isuisu tunda milu ...</td>\n",
              "    </tr>\n",
              "    <tr>\n",
              "      <th>4</th>\n",
              "      <td>#Projo #Jokowi #3Periode \\n\\nSaya bilang ke te...</td>\n",
              "      <td>projo jokowi periode temanteman projo jeli jan...</td>\n",
              "    </tr>\n",
              "  </tbody>\n",
              "</table>\n",
              "</div>\n",
              "      <button class=\"colab-df-convert\" onclick=\"convertToInteractive('df-312b0e2a-87b2-4e7c-b3c9-a981451c8765')\"\n",
              "              title=\"Convert this dataframe to an interactive table.\"\n",
              "              style=\"display:none;\">\n",
              "        \n",
              "  <svg xmlns=\"http://www.w3.org/2000/svg\" height=\"24px\"viewBox=\"0 0 24 24\"\n",
              "       width=\"24px\">\n",
              "    <path d=\"M0 0h24v24H0V0z\" fill=\"none\"/>\n",
              "    <path d=\"M18.56 5.44l.94 2.06.94-2.06 2.06-.94-2.06-.94-.94-2.06-.94 2.06-2.06.94zm-11 1L8.5 8.5l.94-2.06 2.06-.94-2.06-.94L8.5 2.5l-.94 2.06-2.06.94zm10 10l.94 2.06.94-2.06 2.06-.94-2.06-.94-.94-2.06-.94 2.06-2.06.94z\"/><path d=\"M17.41 7.96l-1.37-1.37c-.4-.4-.92-.59-1.43-.59-.52 0-1.04.2-1.43.59L10.3 9.45l-7.72 7.72c-.78.78-.78 2.05 0 2.83L4 21.41c.39.39.9.59 1.41.59.51 0 1.02-.2 1.41-.59l7.78-7.78 2.81-2.81c.8-.78.8-2.07 0-2.86zM5.41 20L4 18.59l7.72-7.72 1.47 1.35L5.41 20z\"/>\n",
              "  </svg>\n",
              "      </button>\n",
              "      \n",
              "  <style>\n",
              "    .colab-df-container {\n",
              "      display:flex;\n",
              "      flex-wrap:wrap;\n",
              "      gap: 12px;\n",
              "    }\n",
              "\n",
              "    .colab-df-convert {\n",
              "      background-color: #E8F0FE;\n",
              "      border: none;\n",
              "      border-radius: 50%;\n",
              "      cursor: pointer;\n",
              "      display: none;\n",
              "      fill: #1967D2;\n",
              "      height: 32px;\n",
              "      padding: 0 0 0 0;\n",
              "      width: 32px;\n",
              "    }\n",
              "\n",
              "    .colab-df-convert:hover {\n",
              "      background-color: #E2EBFA;\n",
              "      box-shadow: 0px 1px 2px rgba(60, 64, 67, 0.3), 0px 1px 3px 1px rgba(60, 64, 67, 0.15);\n",
              "      fill: #174EA6;\n",
              "    }\n",
              "\n",
              "    [theme=dark] .colab-df-convert {\n",
              "      background-color: #3B4455;\n",
              "      fill: #D2E3FC;\n",
              "    }\n",
              "\n",
              "    [theme=dark] .colab-df-convert:hover {\n",
              "      background-color: #434B5C;\n",
              "      box-shadow: 0px 1px 3px 1px rgba(0, 0, 0, 0.15);\n",
              "      filter: drop-shadow(0px 1px 2px rgba(0, 0, 0, 0.3));\n",
              "      fill: #FFFFFF;\n",
              "    }\n",
              "  </style>\n",
              "\n",
              "      <script>\n",
              "        const buttonEl =\n",
              "          document.querySelector('#df-312b0e2a-87b2-4e7c-b3c9-a981451c8765 button.colab-df-convert');\n",
              "        buttonEl.style.display =\n",
              "          google.colab.kernel.accessAllowed ? 'block' : 'none';\n",
              "\n",
              "        async function convertToInteractive(key) {\n",
              "          const element = document.querySelector('#df-312b0e2a-87b2-4e7c-b3c9-a981451c8765');\n",
              "          const dataTable =\n",
              "            await google.colab.kernel.invokeFunction('convertToInteractive',\n",
              "                                                     [key], {});\n",
              "          if (!dataTable) return;\n",
              "\n",
              "          const docLinkHtml = 'Like what you see? Visit the ' +\n",
              "            '<a target=\"_blank\" href=https://colab.research.google.com/notebooks/data_table.ipynb>data table notebook</a>'\n",
              "            + ' to learn more about interactive tables.';\n",
              "          element.innerHTML = '';\n",
              "          dataTable['output_type'] = 'display_data';\n",
              "          await google.colab.output.renderOutput(dataTable, element);\n",
              "          const docLink = document.createElement('div');\n",
              "          docLink.innerHTML = docLinkHtml;\n",
              "          element.appendChild(docLink);\n",
              "        }\n",
              "      </script>\n",
              "    </div>\n",
              "  </div>\n",
              "  "
            ],
            "text/plain": [
              "                                            isi teks  \\\n",
              "0  \"Kondisi bangsa ini menghadapi kenyataan bahwa...   \n",
              "1  \"Tiga periode itu proyek mimpi. Saat ini Jokow...   \n",
              "2  \"Tolak penundaan pemilu dan masa perpangjang j...   \n",
              "3  #BacktoBDM @bdm2502 bersama Ulin Yusron (@ulin...   \n",
              "4  #Projo #Jokowi #3Periode \\n\\nSaya bilang ke te...   \n",
              "\n",
              "                                         data_bersih  \n",
              "0  kondisi bangsa hadap nyata hormat jokowi bench...  \n",
              "1  tiga periode proyek mimpi jokowi hadap sadar m...  \n",
              "2  tolak tunda milu perpangjang jabat presiden pr...  \n",
              "3  backtobdm ulin yusron bahas isuisu tunda milu ...  \n",
              "4  projo jokowi periode temanteman projo jeli jan...  "
            ]
          },
          "execution_count": 23,
          "metadata": {},
          "output_type": "execute_result"
        }
      ],
      "source": [
        "df['data_bersih'] = df['isi teks'].apply(text_preprocessing_proses)\n",
        "df.to_csv('dataset_bersih.csv')\n",
        "df[:5][['isi teks','data_bersih']]"
      ]
    },
    {
      "cell_type": "markdown",
      "metadata": {
        "id": "_87yahfNsMJo"
      },
      "source": [
        "# EKSTRAKSI TF-IDF"
      ]
    },
    {
      "cell_type": "code",
      "execution_count": null,
      "metadata": {
        "colab": {
          "base_uri": "https://localhost:8080/"
        },
        "id": "Ru6ElCkeqfWO",
        "outputId": "1692757e-56a5-499f-9f8b-5f3f2020a000"
      },
      "outputs": [
        {
          "name": "stdout",
          "output_type": "stream",
          "text": [
            "Looking in indexes: https://pypi.org/simple, https://us-python.pkg.dev/colab-wheels/public/simple/\n",
            "Requirement already satisfied: scikit-learn in /usr/local/lib/python3.10/dist-packages (1.2.2)\n",
            "Requirement already satisfied: threadpoolctl>=2.0.0 in /usr/local/lib/python3.10/dist-packages (from scikit-learn) (3.1.0)\n",
            "Requirement already satisfied: scipy>=1.3.2 in /usr/local/lib/python3.10/dist-packages (from scikit-learn) (1.10.1)\n",
            "Requirement already satisfied: joblib>=1.1.1 in /usr/local/lib/python3.10/dist-packages (from scikit-learn) (1.2.0)\n",
            "Requirement already satisfied: numpy>=1.17.3 in /usr/local/lib/python3.10/dist-packages (from scikit-learn) (1.22.4)\n"
          ]
        }
      ],
      "source": [
        "pip install scikit-learn"
      ]
    },
    {
      "cell_type": "code",
      "execution_count": null,
      "metadata": {
        "colab": {
          "base_uri": "https://localhost:8080/",
          "height": 502
        },
        "id": "MI5DJYzMsnb5",
        "outputId": "c84d6199-9552-4df1-9967-0e5eb232eb01"
      },
      "outputs": [
        {
          "ename": "KeyError",
          "evalue": "ignored",
          "output_type": "error",
          "traceback": [
            "\u001b[0;31m---------------------------------------------------------------------------\u001b[0m",
            "\u001b[0;31mKeyError\u001b[0m                                  Traceback (most recent call last)",
            "\u001b[0;32m/usr/local/lib/python3.10/dist-packages/pandas/core/indexes/base.py\u001b[0m in \u001b[0;36mget_loc\u001b[0;34m(self, key, method, tolerance)\u001b[0m\n\u001b[1;32m   3801\u001b[0m             \u001b[0;32mtry\u001b[0m\u001b[0;34m:\u001b[0m\u001b[0;34m\u001b[0m\u001b[0;34m\u001b[0m\u001b[0m\n\u001b[0;32m-> 3802\u001b[0;31m                 \u001b[0;32mreturn\u001b[0m \u001b[0mself\u001b[0m\u001b[0;34m.\u001b[0m\u001b[0m_engine\u001b[0m\u001b[0;34m.\u001b[0m\u001b[0mget_loc\u001b[0m\u001b[0;34m(\u001b[0m\u001b[0mcasted_key\u001b[0m\u001b[0;34m)\u001b[0m\u001b[0;34m\u001b[0m\u001b[0;34m\u001b[0m\u001b[0m\n\u001b[0m\u001b[1;32m   3803\u001b[0m             \u001b[0;32mexcept\u001b[0m \u001b[0mKeyError\u001b[0m \u001b[0;32mas\u001b[0m \u001b[0merr\u001b[0m\u001b[0;34m:\u001b[0m\u001b[0;34m\u001b[0m\u001b[0;34m\u001b[0m\u001b[0m\n",
            "\u001b[0;32m/usr/local/lib/python3.10/dist-packages/pandas/_libs/index.pyx\u001b[0m in \u001b[0;36mpandas._libs.index.IndexEngine.get_loc\u001b[0;34m()\u001b[0m\n",
            "\u001b[0;32m/usr/local/lib/python3.10/dist-packages/pandas/_libs/index.pyx\u001b[0m in \u001b[0;36mpandas._libs.index.IndexEngine.get_loc\u001b[0;34m()\u001b[0m\n",
            "\u001b[0;32mpandas/_libs/hashtable_class_helper.pxi\u001b[0m in \u001b[0;36mpandas._libs.hashtable.PyObjectHashTable.get_item\u001b[0;34m()\u001b[0m\n",
            "\u001b[0;32mpandas/_libs/hashtable_class_helper.pxi\u001b[0m in \u001b[0;36mpandas._libs.hashtable.PyObjectHashTable.get_item\u001b[0;34m()\u001b[0m\n",
            "\u001b[0;31mKeyError\u001b[0m: 'data_bersih'",
            "\nThe above exception was the direct cause of the following exception:\n",
            "\u001b[0;31mKeyError\u001b[0m                                  Traceback (most recent call last)",
            "\u001b[0;32m<ipython-input-69-c5499227961f>\u001b[0m in \u001b[0;36m<cell line: 2>\u001b[0;34m()\u001b[0m\n\u001b[1;32m      1\u001b[0m \u001b[0;31m#Pisahkan kolom fitur dan target\u001b[0m\u001b[0;34m\u001b[0m\u001b[0;34m\u001b[0m\u001b[0m\n\u001b[0;32m----> 2\u001b[0;31m \u001b[0mx\u001b[0m \u001b[0;34m=\u001b[0m \u001b[0mdf\u001b[0m\u001b[0;34m[\u001b[0m\u001b[0;34m'data_bersih'\u001b[0m\u001b[0;34m]\u001b[0m\u001b[0;34m\u001b[0m\u001b[0;34m\u001b[0m\u001b[0m\n\u001b[0m\u001b[1;32m      3\u001b[0m \u001b[0my\u001b[0m \u001b[0;34m=\u001b[0m \u001b[0mdf\u001b[0m\u001b[0;34m[\u001b[0m\u001b[0;34m'VALUE SENTIMEN'\u001b[0m\u001b[0;34m]\u001b[0m\u001b[0;34m\u001b[0m\u001b[0;34m\u001b[0m\u001b[0m\n",
            "\u001b[0;32m/usr/local/lib/python3.10/dist-packages/pandas/core/frame.py\u001b[0m in \u001b[0;36m__getitem__\u001b[0;34m(self, key)\u001b[0m\n\u001b[1;32m   3805\u001b[0m             \u001b[0;32mif\u001b[0m \u001b[0mself\u001b[0m\u001b[0;34m.\u001b[0m\u001b[0mcolumns\u001b[0m\u001b[0;34m.\u001b[0m\u001b[0mnlevels\u001b[0m \u001b[0;34m>\u001b[0m \u001b[0;36m1\u001b[0m\u001b[0;34m:\u001b[0m\u001b[0;34m\u001b[0m\u001b[0;34m\u001b[0m\u001b[0m\n\u001b[1;32m   3806\u001b[0m                 \u001b[0;32mreturn\u001b[0m \u001b[0mself\u001b[0m\u001b[0;34m.\u001b[0m\u001b[0m_getitem_multilevel\u001b[0m\u001b[0;34m(\u001b[0m\u001b[0mkey\u001b[0m\u001b[0;34m)\u001b[0m\u001b[0;34m\u001b[0m\u001b[0;34m\u001b[0m\u001b[0m\n\u001b[0;32m-> 3807\u001b[0;31m             \u001b[0mindexer\u001b[0m \u001b[0;34m=\u001b[0m \u001b[0mself\u001b[0m\u001b[0;34m.\u001b[0m\u001b[0mcolumns\u001b[0m\u001b[0;34m.\u001b[0m\u001b[0mget_loc\u001b[0m\u001b[0;34m(\u001b[0m\u001b[0mkey\u001b[0m\u001b[0;34m)\u001b[0m\u001b[0;34m\u001b[0m\u001b[0;34m\u001b[0m\u001b[0m\n\u001b[0m\u001b[1;32m   3808\u001b[0m             \u001b[0;32mif\u001b[0m \u001b[0mis_integer\u001b[0m\u001b[0;34m(\u001b[0m\u001b[0mindexer\u001b[0m\u001b[0;34m)\u001b[0m\u001b[0;34m:\u001b[0m\u001b[0;34m\u001b[0m\u001b[0;34m\u001b[0m\u001b[0m\n\u001b[1;32m   3809\u001b[0m                 \u001b[0mindexer\u001b[0m \u001b[0;34m=\u001b[0m \u001b[0;34m[\u001b[0m\u001b[0mindexer\u001b[0m\u001b[0;34m]\u001b[0m\u001b[0;34m\u001b[0m\u001b[0;34m\u001b[0m\u001b[0m\n",
            "\u001b[0;32m/usr/local/lib/python3.10/dist-packages/pandas/core/indexes/base.py\u001b[0m in \u001b[0;36mget_loc\u001b[0;34m(self, key, method, tolerance)\u001b[0m\n\u001b[1;32m   3802\u001b[0m                 \u001b[0;32mreturn\u001b[0m \u001b[0mself\u001b[0m\u001b[0;34m.\u001b[0m\u001b[0m_engine\u001b[0m\u001b[0;34m.\u001b[0m\u001b[0mget_loc\u001b[0m\u001b[0;34m(\u001b[0m\u001b[0mcasted_key\u001b[0m\u001b[0;34m)\u001b[0m\u001b[0;34m\u001b[0m\u001b[0;34m\u001b[0m\u001b[0m\n\u001b[1;32m   3803\u001b[0m             \u001b[0;32mexcept\u001b[0m \u001b[0mKeyError\u001b[0m \u001b[0;32mas\u001b[0m \u001b[0merr\u001b[0m\u001b[0;34m:\u001b[0m\u001b[0;34m\u001b[0m\u001b[0;34m\u001b[0m\u001b[0m\n\u001b[0;32m-> 3804\u001b[0;31m                 \u001b[0;32mraise\u001b[0m \u001b[0mKeyError\u001b[0m\u001b[0;34m(\u001b[0m\u001b[0mkey\u001b[0m\u001b[0;34m)\u001b[0m \u001b[0;32mfrom\u001b[0m \u001b[0merr\u001b[0m\u001b[0;34m\u001b[0m\u001b[0;34m\u001b[0m\u001b[0m\n\u001b[0m\u001b[1;32m   3805\u001b[0m             \u001b[0;32mexcept\u001b[0m \u001b[0mTypeError\u001b[0m\u001b[0;34m:\u001b[0m\u001b[0;34m\u001b[0m\u001b[0;34m\u001b[0m\u001b[0m\n\u001b[1;32m   3806\u001b[0m                 \u001b[0;31m# If we have a listlike key, _check_indexing_error will raise\u001b[0m\u001b[0;34m\u001b[0m\u001b[0;34m\u001b[0m\u001b[0m\n",
            "\u001b[0;31mKeyError\u001b[0m: 'data_bersih'"
          ]
        }
      ],
      "source": [
        "#Pisahkan kolom fitur dan target\n",
        "x = df['data_bersih']\n",
        "y = df['VALUE SENTIMEN']"
      ]
    },
    {
      "cell_type": "code",
      "execution_count": null,
      "metadata": {
        "colab": {
          "base_uri": "https://localhost:8080/",
          "height": 75
        },
        "id": "-jYAmcuJqPmZ",
        "outputId": "9c009e5e-8b32-4134-f3f0-70efc3141c7c"
      },
      "outputs": [
        {
          "data": {
            "text/html": [
              "<style>#sk-container-id-2 {color: black;background-color: white;}#sk-container-id-2 pre{padding: 0;}#sk-container-id-2 div.sk-toggleable {background-color: white;}#sk-container-id-2 label.sk-toggleable__label {cursor: pointer;display: block;width: 100%;margin-bottom: 0;padding: 0.3em;box-sizing: border-box;text-align: center;}#sk-container-id-2 label.sk-toggleable__label-arrow:before {content: \"▸\";float: left;margin-right: 0.25em;color: #696969;}#sk-container-id-2 label.sk-toggleable__label-arrow:hover:before {color: black;}#sk-container-id-2 div.sk-estimator:hover label.sk-toggleable__label-arrow:before {color: black;}#sk-container-id-2 div.sk-toggleable__content {max-height: 0;max-width: 0;overflow: hidden;text-align: left;background-color: #f0f8ff;}#sk-container-id-2 div.sk-toggleable__content pre {margin: 0.2em;color: black;border-radius: 0.25em;background-color: #f0f8ff;}#sk-container-id-2 input.sk-toggleable__control:checked~div.sk-toggleable__content {max-height: 200px;max-width: 100%;overflow: auto;}#sk-container-id-2 input.sk-toggleable__control:checked~label.sk-toggleable__label-arrow:before {content: \"▾\";}#sk-container-id-2 div.sk-estimator input.sk-toggleable__control:checked~label.sk-toggleable__label {background-color: #d4ebff;}#sk-container-id-2 div.sk-label input.sk-toggleable__control:checked~label.sk-toggleable__label {background-color: #d4ebff;}#sk-container-id-2 input.sk-hidden--visually {border: 0;clip: rect(1px 1px 1px 1px);clip: rect(1px, 1px, 1px, 1px);height: 1px;margin: -1px;overflow: hidden;padding: 0;position: absolute;width: 1px;}#sk-container-id-2 div.sk-estimator {font-family: monospace;background-color: #f0f8ff;border: 1px dotted black;border-radius: 0.25em;box-sizing: border-box;margin-bottom: 0.5em;}#sk-container-id-2 div.sk-estimator:hover {background-color: #d4ebff;}#sk-container-id-2 div.sk-parallel-item::after {content: \"\";width: 100%;border-bottom: 1px solid gray;flex-grow: 1;}#sk-container-id-2 div.sk-label:hover label.sk-toggleable__label {background-color: #d4ebff;}#sk-container-id-2 div.sk-serial::before {content: \"\";position: absolute;border-left: 1px solid gray;box-sizing: border-box;top: 0;bottom: 0;left: 50%;z-index: 0;}#sk-container-id-2 div.sk-serial {display: flex;flex-direction: column;align-items: center;background-color: white;padding-right: 0.2em;padding-left: 0.2em;position: relative;}#sk-container-id-2 div.sk-item {position: relative;z-index: 1;}#sk-container-id-2 div.sk-parallel {display: flex;align-items: stretch;justify-content: center;background-color: white;position: relative;}#sk-container-id-2 div.sk-item::before, #sk-container-id-2 div.sk-parallel-item::before {content: \"\";position: absolute;border-left: 1px solid gray;box-sizing: border-box;top: 0;bottom: 0;left: 50%;z-index: -1;}#sk-container-id-2 div.sk-parallel-item {display: flex;flex-direction: column;z-index: 1;position: relative;background-color: white;}#sk-container-id-2 div.sk-parallel-item:first-child::after {align-self: flex-end;width: 50%;}#sk-container-id-2 div.sk-parallel-item:last-child::after {align-self: flex-start;width: 50%;}#sk-container-id-2 div.sk-parallel-item:only-child::after {width: 0;}#sk-container-id-2 div.sk-dashed-wrapped {border: 1px dashed gray;margin: 0 0.4em 0.5em 0.4em;box-sizing: border-box;padding-bottom: 0.4em;background-color: white;}#sk-container-id-2 div.sk-label label {font-family: monospace;font-weight: bold;display: inline-block;line-height: 1.2em;}#sk-container-id-2 div.sk-label-container {text-align: center;}#sk-container-id-2 div.sk-container {/* jupyter's `normalize.less` sets `[hidden] { display: none; }` but bootstrap.min.css set `[hidden] { display: none !important; }` so we also need the `!important` here to be able to override the default hidden behavior on the sphinx rendered scikit-learn.org. See: https://github.com/scikit-learn/scikit-learn/issues/21755 */display: inline-block !important;position: relative;}#sk-container-id-2 div.sk-text-repr-fallback {display: none;}</style><div id=\"sk-container-id-2\" class=\"sk-top-container\"><div class=\"sk-text-repr-fallback\"><pre>TfidfVectorizer()</pre><b>In a Jupyter environment, please rerun this cell to show the HTML representation or trust the notebook. <br />On GitHub, the HTML representation is unable to render, please try loading this page with nbviewer.org.</b></div><div class=\"sk-container\" hidden><div class=\"sk-item\"><div class=\"sk-estimator sk-toggleable\"><input class=\"sk-toggleable__control sk-hidden--visually\" id=\"sk-estimator-id-2\" type=\"checkbox\" checked><label for=\"sk-estimator-id-2\" class=\"sk-toggleable__label sk-toggleable__label-arrow\">TfidfVectorizer</label><div class=\"sk-toggleable__content\"><pre>TfidfVectorizer()</pre></div></div></div></div></div>"
            ],
            "text/plain": [
              "TfidfVectorizer()"
            ]
          },
          "execution_count": 26,
          "metadata": {},
          "output_type": "execute_result"
        }
      ],
      "source": [
        "from sklearn.feature_extraction.text import TfidfVectorizer\n",
        "from sklearn.feature_selection import SelectKBest\n",
        "from sklearn.feature_selection import chi2\n",
        "\n",
        "tf_idf = TfidfVectorizer(ngram_range=(1,1))\n",
        "tf_idf.fit(x)"
      ]
    },
    {
      "cell_type": "code",
      "execution_count": null,
      "metadata": {
        "colab": {
          "base_uri": "https://localhost:8080/"
        },
        "id": "CwfrNlULzwtv",
        "outputId": "9a207c82-ebe4-4706-b402-db7aee60c58d"
      },
      "outputs": [
        {
          "name": "stdout",
          "output_type": "stream",
          "text": [
            "['aamiin' 'abatantigaperiode' 'abdul' ... 'zul' 'zulhas' 'zulkifli']\n"
          ]
        }
      ],
      "source": [
        "#menampilkan fitur-fitur yang ada dalam korpus\n",
        "print(tf_idf.get_feature_names_out())"
      ]
    },
    {
      "cell_type": "code",
      "execution_count": null,
      "metadata": {
        "colab": {
          "base_uri": "https://localhost:8080/"
        },
        "id": "yQZfVecx3L52",
        "outputId": "cdeb3345-6989-44ea-9799-dafe8045818c"
      },
      "outputs": [
        {
          "data": {
            "text/plain": [
              "array([[0., 0., 0., ..., 0., 0., 0.],\n",
              "       [0., 0., 0., ..., 0., 0., 0.],\n",
              "       [0., 0., 0., ..., 0., 0., 0.],\n",
              "       ...,\n",
              "       [0., 0., 0., ..., 0., 0., 0.],\n",
              "       [0., 0., 0., ..., 0., 0., 0.],\n",
              "       [0., 0., 0., ..., 0., 0., 0.]])"
            ]
          },
          "execution_count": 28,
          "metadata": {},
          "output_type": "execute_result"
        }
      ],
      "source": [
        "#menampilkan matriks jumlah token\n",
        "#Data kemudian siap dilakukan proses permodelan (machine learning)\n",
        "x_tf_idf = tf_idf.transform(x).toarray()\n",
        "x_tf_idf"
      ]
    },
    {
      "cell_type": "code",
      "execution_count": null,
      "metadata": {
        "id": "1Ml5XqG8LPzQ"
      },
      "outputs": [],
      "source": [
        "#Menampilkan Nilai tf-idf\n",
        "data_tf_idf = pd.DataFrame(x_tf_idf, columns=tf_idf.get_feature_names_out()) \n",
        "data_tf_idf.to_csv('data_tfIdf.csv')\n"
      ]
    },
    {
      "cell_type": "code",
      "execution_count": null,
      "metadata": {
        "colab": {
          "base_uri": "https://localhost:8080/",
          "height": 488
        },
        "id": "2v1EPv7ak7cc",
        "outputId": "ba4791c4-c4d6-40b2-a30a-b8881e93295a"
      },
      "outputs": [
        {
          "data": {
            "text/html": [
              "\n",
              "  <div id=\"df-4476f44d-cbbf-4c55-ae2e-937093898282\">\n",
              "    <div class=\"colab-df-container\">\n",
              "      <div>\n",
              "<style scoped>\n",
              "    .dataframe tbody tr th:only-of-type {\n",
              "        vertical-align: middle;\n",
              "    }\n",
              "\n",
              "    .dataframe tbody tr th {\n",
              "        vertical-align: top;\n",
              "    }\n",
              "\n",
              "    .dataframe thead th {\n",
              "        text-align: right;\n",
              "    }\n",
              "</style>\n",
              "<table border=\"1\" class=\"dataframe\">\n",
              "  <thead>\n",
              "    <tr style=\"text-align: right;\">\n",
              "      <th></th>\n",
              "      <th>aamiin</th>\n",
              "      <th>abatantigaperiode</th>\n",
              "      <th>abdul</th>\n",
              "      <th>acara</th>\n",
              "      <th>acu</th>\n",
              "      <th>ada</th>\n",
              "      <th>adaahhhangel</th>\n",
              "      <th>adek</th>\n",
              "      <th>adhie</th>\n",
              "      <th>adhiemmassardi</th>\n",
              "      <th>...</th>\n",
              "      <th>yoo</th>\n",
              "      <th>youtube</th>\n",
              "      <th>youtuber</th>\n",
              "      <th>yuk</th>\n",
              "      <th>yusril</th>\n",
              "      <th>yusron</th>\n",
              "      <th>zara</th>\n",
              "      <th>zul</th>\n",
              "      <th>zulhas</th>\n",
              "      <th>zulkifli</th>\n",
              "    </tr>\n",
              "  </thead>\n",
              "  <tbody>\n",
              "    <tr>\n",
              "      <th>0</th>\n",
              "      <td>0.0</td>\n",
              "      <td>0.0</td>\n",
              "      <td>0.0</td>\n",
              "      <td>0.0</td>\n",
              "      <td>0.0</td>\n",
              "      <td>0.0</td>\n",
              "      <td>0.0</td>\n",
              "      <td>0.0</td>\n",
              "      <td>0.0</td>\n",
              "      <td>0.0</td>\n",
              "      <td>...</td>\n",
              "      <td>0.0</td>\n",
              "      <td>0.0</td>\n",
              "      <td>0.0</td>\n",
              "      <td>0.0</td>\n",
              "      <td>0.0</td>\n",
              "      <td>0.00000</td>\n",
              "      <td>0.0</td>\n",
              "      <td>0.0</td>\n",
              "      <td>0.0</td>\n",
              "      <td>0.0</td>\n",
              "    </tr>\n",
              "    <tr>\n",
              "      <th>1</th>\n",
              "      <td>0.0</td>\n",
              "      <td>0.0</td>\n",
              "      <td>0.0</td>\n",
              "      <td>0.0</td>\n",
              "      <td>0.0</td>\n",
              "      <td>0.0</td>\n",
              "      <td>0.0</td>\n",
              "      <td>0.0</td>\n",
              "      <td>0.0</td>\n",
              "      <td>0.0</td>\n",
              "      <td>...</td>\n",
              "      <td>0.0</td>\n",
              "      <td>0.0</td>\n",
              "      <td>0.0</td>\n",
              "      <td>0.0</td>\n",
              "      <td>0.0</td>\n",
              "      <td>0.00000</td>\n",
              "      <td>0.0</td>\n",
              "      <td>0.0</td>\n",
              "      <td>0.0</td>\n",
              "      <td>0.0</td>\n",
              "    </tr>\n",
              "    <tr>\n",
              "      <th>2</th>\n",
              "      <td>0.0</td>\n",
              "      <td>0.0</td>\n",
              "      <td>0.0</td>\n",
              "      <td>0.0</td>\n",
              "      <td>0.0</td>\n",
              "      <td>0.0</td>\n",
              "      <td>0.0</td>\n",
              "      <td>0.0</td>\n",
              "      <td>0.0</td>\n",
              "      <td>0.0</td>\n",
              "      <td>...</td>\n",
              "      <td>0.0</td>\n",
              "      <td>0.0</td>\n",
              "      <td>0.0</td>\n",
              "      <td>0.0</td>\n",
              "      <td>0.0</td>\n",
              "      <td>0.00000</td>\n",
              "      <td>0.0</td>\n",
              "      <td>0.0</td>\n",
              "      <td>0.0</td>\n",
              "      <td>0.0</td>\n",
              "    </tr>\n",
              "    <tr>\n",
              "      <th>3</th>\n",
              "      <td>0.0</td>\n",
              "      <td>0.0</td>\n",
              "      <td>0.0</td>\n",
              "      <td>0.0</td>\n",
              "      <td>0.0</td>\n",
              "      <td>0.0</td>\n",
              "      <td>0.0</td>\n",
              "      <td>0.0</td>\n",
              "      <td>0.0</td>\n",
              "      <td>0.0</td>\n",
              "      <td>...</td>\n",
              "      <td>0.0</td>\n",
              "      <td>0.0</td>\n",
              "      <td>0.0</td>\n",
              "      <td>0.0</td>\n",
              "      <td>0.0</td>\n",
              "      <td>0.54154</td>\n",
              "      <td>0.0</td>\n",
              "      <td>0.0</td>\n",
              "      <td>0.0</td>\n",
              "      <td>0.0</td>\n",
              "    </tr>\n",
              "    <tr>\n",
              "      <th>4</th>\n",
              "      <td>0.0</td>\n",
              "      <td>0.0</td>\n",
              "      <td>0.0</td>\n",
              "      <td>0.0</td>\n",
              "      <td>0.0</td>\n",
              "      <td>0.0</td>\n",
              "      <td>0.0</td>\n",
              "      <td>0.0</td>\n",
              "      <td>0.0</td>\n",
              "      <td>0.0</td>\n",
              "      <td>...</td>\n",
              "      <td>0.0</td>\n",
              "      <td>0.0</td>\n",
              "      <td>0.0</td>\n",
              "      <td>0.0</td>\n",
              "      <td>0.0</td>\n",
              "      <td>0.00000</td>\n",
              "      <td>0.0</td>\n",
              "      <td>0.0</td>\n",
              "      <td>0.0</td>\n",
              "      <td>0.0</td>\n",
              "    </tr>\n",
              "    <tr>\n",
              "      <th>...</th>\n",
              "      <td>...</td>\n",
              "      <td>...</td>\n",
              "      <td>...</td>\n",
              "      <td>...</td>\n",
              "      <td>...</td>\n",
              "      <td>...</td>\n",
              "      <td>...</td>\n",
              "      <td>...</td>\n",
              "      <td>...</td>\n",
              "      <td>...</td>\n",
              "      <td>...</td>\n",
              "      <td>...</td>\n",
              "      <td>...</td>\n",
              "      <td>...</td>\n",
              "      <td>...</td>\n",
              "      <td>...</td>\n",
              "      <td>...</td>\n",
              "      <td>...</td>\n",
              "      <td>...</td>\n",
              "      <td>...</td>\n",
              "      <td>...</td>\n",
              "    </tr>\n",
              "    <tr>\n",
              "      <th>434</th>\n",
              "      <td>0.0</td>\n",
              "      <td>0.0</td>\n",
              "      <td>0.0</td>\n",
              "      <td>0.0</td>\n",
              "      <td>0.0</td>\n",
              "      <td>0.0</td>\n",
              "      <td>0.0</td>\n",
              "      <td>0.0</td>\n",
              "      <td>0.0</td>\n",
              "      <td>0.0</td>\n",
              "      <td>...</td>\n",
              "      <td>0.0</td>\n",
              "      <td>0.0</td>\n",
              "      <td>0.0</td>\n",
              "      <td>0.0</td>\n",
              "      <td>0.0</td>\n",
              "      <td>0.00000</td>\n",
              "      <td>0.0</td>\n",
              "      <td>0.0</td>\n",
              "      <td>0.0</td>\n",
              "      <td>0.0</td>\n",
              "    </tr>\n",
              "    <tr>\n",
              "      <th>435</th>\n",
              "      <td>0.0</td>\n",
              "      <td>0.0</td>\n",
              "      <td>0.0</td>\n",
              "      <td>0.0</td>\n",
              "      <td>0.0</td>\n",
              "      <td>0.0</td>\n",
              "      <td>0.0</td>\n",
              "      <td>0.0</td>\n",
              "      <td>0.0</td>\n",
              "      <td>0.0</td>\n",
              "      <td>...</td>\n",
              "      <td>0.0</td>\n",
              "      <td>0.0</td>\n",
              "      <td>0.0</td>\n",
              "      <td>0.0</td>\n",
              "      <td>0.0</td>\n",
              "      <td>0.00000</td>\n",
              "      <td>0.0</td>\n",
              "      <td>0.0</td>\n",
              "      <td>0.0</td>\n",
              "      <td>0.0</td>\n",
              "    </tr>\n",
              "    <tr>\n",
              "      <th>436</th>\n",
              "      <td>0.0</td>\n",
              "      <td>0.0</td>\n",
              "      <td>0.0</td>\n",
              "      <td>0.0</td>\n",
              "      <td>0.0</td>\n",
              "      <td>0.0</td>\n",
              "      <td>0.0</td>\n",
              "      <td>0.0</td>\n",
              "      <td>0.0</td>\n",
              "      <td>0.0</td>\n",
              "      <td>...</td>\n",
              "      <td>0.0</td>\n",
              "      <td>0.0</td>\n",
              "      <td>0.0</td>\n",
              "      <td>0.0</td>\n",
              "      <td>0.0</td>\n",
              "      <td>0.00000</td>\n",
              "      <td>0.0</td>\n",
              "      <td>0.0</td>\n",
              "      <td>0.0</td>\n",
              "      <td>0.0</td>\n",
              "    </tr>\n",
              "    <tr>\n",
              "      <th>437</th>\n",
              "      <td>0.0</td>\n",
              "      <td>0.0</td>\n",
              "      <td>0.0</td>\n",
              "      <td>0.0</td>\n",
              "      <td>0.0</td>\n",
              "      <td>0.0</td>\n",
              "      <td>0.0</td>\n",
              "      <td>0.0</td>\n",
              "      <td>0.0</td>\n",
              "      <td>0.0</td>\n",
              "      <td>...</td>\n",
              "      <td>0.0</td>\n",
              "      <td>0.0</td>\n",
              "      <td>0.0</td>\n",
              "      <td>0.0</td>\n",
              "      <td>0.0</td>\n",
              "      <td>0.00000</td>\n",
              "      <td>0.0</td>\n",
              "      <td>0.0</td>\n",
              "      <td>0.0</td>\n",
              "      <td>0.0</td>\n",
              "    </tr>\n",
              "    <tr>\n",
              "      <th>438</th>\n",
              "      <td>0.0</td>\n",
              "      <td>0.0</td>\n",
              "      <td>0.0</td>\n",
              "      <td>0.0</td>\n",
              "      <td>0.0</td>\n",
              "      <td>0.0</td>\n",
              "      <td>0.0</td>\n",
              "      <td>0.0</td>\n",
              "      <td>0.0</td>\n",
              "      <td>0.0</td>\n",
              "      <td>...</td>\n",
              "      <td>0.0</td>\n",
              "      <td>0.0</td>\n",
              "      <td>0.0</td>\n",
              "      <td>0.0</td>\n",
              "      <td>0.0</td>\n",
              "      <td>0.00000</td>\n",
              "      <td>0.0</td>\n",
              "      <td>0.0</td>\n",
              "      <td>0.0</td>\n",
              "      <td>0.0</td>\n",
              "    </tr>\n",
              "  </tbody>\n",
              "</table>\n",
              "<p>439 rows × 1801 columns</p>\n",
              "</div>\n",
              "      <button class=\"colab-df-convert\" onclick=\"convertToInteractive('df-4476f44d-cbbf-4c55-ae2e-937093898282')\"\n",
              "              title=\"Convert this dataframe to an interactive table.\"\n",
              "              style=\"display:none;\">\n",
              "        \n",
              "  <svg xmlns=\"http://www.w3.org/2000/svg\" height=\"24px\"viewBox=\"0 0 24 24\"\n",
              "       width=\"24px\">\n",
              "    <path d=\"M0 0h24v24H0V0z\" fill=\"none\"/>\n",
              "    <path d=\"M18.56 5.44l.94 2.06.94-2.06 2.06-.94-2.06-.94-.94-2.06-.94 2.06-2.06.94zm-11 1L8.5 8.5l.94-2.06 2.06-.94-2.06-.94L8.5 2.5l-.94 2.06-2.06.94zm10 10l.94 2.06.94-2.06 2.06-.94-2.06-.94-.94-2.06-.94 2.06-2.06.94z\"/><path d=\"M17.41 7.96l-1.37-1.37c-.4-.4-.92-.59-1.43-.59-.52 0-1.04.2-1.43.59L10.3 9.45l-7.72 7.72c-.78.78-.78 2.05 0 2.83L4 21.41c.39.39.9.59 1.41.59.51 0 1.02-.2 1.41-.59l7.78-7.78 2.81-2.81c.8-.78.8-2.07 0-2.86zM5.41 20L4 18.59l7.72-7.72 1.47 1.35L5.41 20z\"/>\n",
              "  </svg>\n",
              "      </button>\n",
              "      \n",
              "  <style>\n",
              "    .colab-df-container {\n",
              "      display:flex;\n",
              "      flex-wrap:wrap;\n",
              "      gap: 12px;\n",
              "    }\n",
              "\n",
              "    .colab-df-convert {\n",
              "      background-color: #E8F0FE;\n",
              "      border: none;\n",
              "      border-radius: 50%;\n",
              "      cursor: pointer;\n",
              "      display: none;\n",
              "      fill: #1967D2;\n",
              "      height: 32px;\n",
              "      padding: 0 0 0 0;\n",
              "      width: 32px;\n",
              "    }\n",
              "\n",
              "    .colab-df-convert:hover {\n",
              "      background-color: #E2EBFA;\n",
              "      box-shadow: 0px 1px 2px rgba(60, 64, 67, 0.3), 0px 1px 3px 1px rgba(60, 64, 67, 0.15);\n",
              "      fill: #174EA6;\n",
              "    }\n",
              "\n",
              "    [theme=dark] .colab-df-convert {\n",
              "      background-color: #3B4455;\n",
              "      fill: #D2E3FC;\n",
              "    }\n",
              "\n",
              "    [theme=dark] .colab-df-convert:hover {\n",
              "      background-color: #434B5C;\n",
              "      box-shadow: 0px 1px 3px 1px rgba(0, 0, 0, 0.15);\n",
              "      filter: drop-shadow(0px 1px 2px rgba(0, 0, 0, 0.3));\n",
              "      fill: #FFFFFF;\n",
              "    }\n",
              "  </style>\n",
              "\n",
              "      <script>\n",
              "        const buttonEl =\n",
              "          document.querySelector('#df-4476f44d-cbbf-4c55-ae2e-937093898282 button.colab-df-convert');\n",
              "        buttonEl.style.display =\n",
              "          google.colab.kernel.accessAllowed ? 'block' : 'none';\n",
              "\n",
              "        async function convertToInteractive(key) {\n",
              "          const element = document.querySelector('#df-4476f44d-cbbf-4c55-ae2e-937093898282');\n",
              "          const dataTable =\n",
              "            await google.colab.kernel.invokeFunction('convertToInteractive',\n",
              "                                                     [key], {});\n",
              "          if (!dataTable) return;\n",
              "\n",
              "          const docLinkHtml = 'Like what you see? Visit the ' +\n",
              "            '<a target=\"_blank\" href=https://colab.research.google.com/notebooks/data_table.ipynb>data table notebook</a>'\n",
              "            + ' to learn more about interactive tables.';\n",
              "          element.innerHTML = '';\n",
              "          dataTable['output_type'] = 'display_data';\n",
              "          await google.colab.output.renderOutput(dataTable, element);\n",
              "          const docLink = document.createElement('div');\n",
              "          docLink.innerHTML = docLinkHtml;\n",
              "          element.appendChild(docLink);\n",
              "        }\n",
              "      </script>\n",
              "    </div>\n",
              "  </div>\n",
              "  "
            ],
            "text/plain": [
              "     aamiin  abatantigaperiode  abdul  acara  acu  ada  adaahhhangel  adek  \\\n",
              "0       0.0                0.0    0.0    0.0  0.0  0.0           0.0   0.0   \n",
              "1       0.0                0.0    0.0    0.0  0.0  0.0           0.0   0.0   \n",
              "2       0.0                0.0    0.0    0.0  0.0  0.0           0.0   0.0   \n",
              "3       0.0                0.0    0.0    0.0  0.0  0.0           0.0   0.0   \n",
              "4       0.0                0.0    0.0    0.0  0.0  0.0           0.0   0.0   \n",
              "..      ...                ...    ...    ...  ...  ...           ...   ...   \n",
              "434     0.0                0.0    0.0    0.0  0.0  0.0           0.0   0.0   \n",
              "435     0.0                0.0    0.0    0.0  0.0  0.0           0.0   0.0   \n",
              "436     0.0                0.0    0.0    0.0  0.0  0.0           0.0   0.0   \n",
              "437     0.0                0.0    0.0    0.0  0.0  0.0           0.0   0.0   \n",
              "438     0.0                0.0    0.0    0.0  0.0  0.0           0.0   0.0   \n",
              "\n",
              "     adhie  adhiemmassardi  ...  yoo  youtube  youtuber  yuk  yusril   yusron  \\\n",
              "0      0.0             0.0  ...  0.0      0.0       0.0  0.0     0.0  0.00000   \n",
              "1      0.0             0.0  ...  0.0      0.0       0.0  0.0     0.0  0.00000   \n",
              "2      0.0             0.0  ...  0.0      0.0       0.0  0.0     0.0  0.00000   \n",
              "3      0.0             0.0  ...  0.0      0.0       0.0  0.0     0.0  0.54154   \n",
              "4      0.0             0.0  ...  0.0      0.0       0.0  0.0     0.0  0.00000   \n",
              "..     ...             ...  ...  ...      ...       ...  ...     ...      ...   \n",
              "434    0.0             0.0  ...  0.0      0.0       0.0  0.0     0.0  0.00000   \n",
              "435    0.0             0.0  ...  0.0      0.0       0.0  0.0     0.0  0.00000   \n",
              "436    0.0             0.0  ...  0.0      0.0       0.0  0.0     0.0  0.00000   \n",
              "437    0.0             0.0  ...  0.0      0.0       0.0  0.0     0.0  0.00000   \n",
              "438    0.0             0.0  ...  0.0      0.0       0.0  0.0     0.0  0.00000   \n",
              "\n",
              "     zara  zul  zulhas  zulkifli  \n",
              "0     0.0  0.0     0.0       0.0  \n",
              "1     0.0  0.0     0.0       0.0  \n",
              "2     0.0  0.0     0.0       0.0  \n",
              "3     0.0  0.0     0.0       0.0  \n",
              "4     0.0  0.0     0.0       0.0  \n",
              "..    ...  ...     ...       ...  \n",
              "434   0.0  0.0     0.0       0.0  \n",
              "435   0.0  0.0     0.0       0.0  \n",
              "436   0.0  0.0     0.0       0.0  \n",
              "437   0.0  0.0     0.0       0.0  \n",
              "438   0.0  0.0     0.0       0.0  \n",
              "\n",
              "[439 rows x 1801 columns]"
            ]
          },
          "execution_count": 32,
          "metadata": {},
          "output_type": "execute_result"
        }
      ],
      "source": [
        "data_tf_idf"
      ]
    },
    {
      "cell_type": "code",
      "execution_count": null,
      "metadata": {
        "colab": {
          "base_uri": "https://localhost:8080/",
          "height": 200
        },
        "id": "o9rdSltTRSQU",
        "outputId": "e7e82380-352a-40c8-9783-df07ce2516f2"
      },
      "outputs": [
        {
          "ename": "NameError",
          "evalue": "ignored",
          "output_type": "error",
          "traceback": [
            "\u001b[0;31m---------------------------------------------------------------------------\u001b[0m",
            "\u001b[0;31mNameError\u001b[0m                                 Traceback (most recent call last)",
            "\u001b[0;32m<ipython-input-3-c0311aa90a8b>\u001b[0m in \u001b[0;36m<cell line: 2>\u001b[0;34m()\u001b[0m\n\u001b[1;32m      1\u001b[0m \u001b[0;32mimport\u001b[0m \u001b[0mnumpy\u001b[0m \u001b[0;32mas\u001b[0m \u001b[0mnp\u001b[0m\u001b[0;34m\u001b[0m\u001b[0;34m\u001b[0m\u001b[0m\n\u001b[0;32m----> 2\u001b[0;31m \u001b[0mX\u001b[0m \u001b[0;34m=\u001b[0m \u001b[0mnp\u001b[0m\u001b[0;34m.\u001b[0m\u001b[0marray\u001b[0m\u001b[0;34m(\u001b[0m\u001b[0mdata_tf_idf\u001b[0m\u001b[0;34m)\u001b[0m\u001b[0;34m\u001b[0m\u001b[0;34m\u001b[0m\u001b[0m\n\u001b[0m\u001b[1;32m      3\u001b[0m \u001b[0my\u001b[0m \u001b[0;34m=\u001b[0m \u001b[0mnp\u001b[0m\u001b[0;34m.\u001b[0m\u001b[0marray\u001b[0m\u001b[0;34m(\u001b[0m\u001b[0my\u001b[0m\u001b[0;34m)\u001b[0m\u001b[0;34m\u001b[0m\u001b[0;34m\u001b[0m\u001b[0m\n",
            "\u001b[0;31mNameError\u001b[0m: name 'data_tf_idf' is not defined"
          ]
        }
      ],
      "source": [
        "import numpy as np\n",
        "X = np.array(data_tf_idf)\n",
        "y = np.array(y)"
      ]
    },
    {
      "cell_type": "code",
      "execution_count": null,
      "metadata": {
        "colab": {
          "base_uri": "https://localhost:8080/",
          "height": 380
        },
        "id": "Fc9yUdiXTOY0",
        "outputId": "75cbf171-41ee-4fc0-ebfa-d08fed5fc168"
      },
      "outputs": [
        {
          "ename": "ValueError",
          "evalue": "ignored",
          "output_type": "error",
          "traceback": [
            "\u001b[0;31m---------------------------------------------------------------------------\u001b[0m",
            "\u001b[0;31mValueError\u001b[0m                                Traceback (most recent call last)",
            "\u001b[0;32m<ipython-input-66-c653b4f79a8c>\u001b[0m in \u001b[0;36m<cell line: 2>\u001b[0;34m()\u001b[0m\n\u001b[1;32m      1\u001b[0m \u001b[0mekstraksi_fitur\u001b[0m \u001b[0;34m=\u001b[0m \u001b[0mSelectKBest\u001b[0m\u001b[0;34m(\u001b[0m\u001b[0mchi2\u001b[0m\u001b[0;34m,\u001b[0m \u001b[0mk\u001b[0m\u001b[0;34m=\u001b[0m\u001b[0;36m1000\u001b[0m\u001b[0;34m)\u001b[0m\u001b[0;34m\u001b[0m\u001b[0;34m\u001b[0m\u001b[0m\n\u001b[0;32m----> 2\u001b[0;31m \u001b[0mX_kbest_features\u001b[0m \u001b[0;34m=\u001b[0m \u001b[0mekstraksi_fitur\u001b[0m\u001b[0;34m.\u001b[0m\u001b[0mfit_transform\u001b[0m\u001b[0;34m(\u001b[0m\u001b[0mX\u001b[0m\u001b[0;34m,\u001b[0m \u001b[0my\u001b[0m\u001b[0;34m)\u001b[0m\u001b[0;34m\u001b[0m\u001b[0;34m\u001b[0m\u001b[0m\n\u001b[0m\u001b[1;32m      3\u001b[0m \u001b[0;31m#mengurangi nilai fitur\u001b[0m\u001b[0;34m\u001b[0m\u001b[0;34m\u001b[0m\u001b[0m\n\u001b[1;32m      4\u001b[0m \u001b[0mprint\u001b[0m\u001b[0;34m(\u001b[0m\u001b[0;34m'nilai_asli feature number:'\u001b[0m\u001b[0;34m,\u001b[0m \u001b[0mX\u001b[0m\u001b[0;34m.\u001b[0m\u001b[0mshape\u001b[0m\u001b[0;34m[\u001b[0m\u001b[0;36m1\u001b[0m\u001b[0;34m]\u001b[0m\u001b[0;34m)\u001b[0m\u001b[0;34m\u001b[0m\u001b[0;34m\u001b[0m\u001b[0m\n\u001b[1;32m      5\u001b[0m \u001b[0mprint\u001b[0m\u001b[0;34m(\u001b[0m\u001b[0;34m'nilai yang dikurangi feature number:'\u001b[0m\u001b[0;34m,\u001b[0m \u001b[0mX_kbest_features\u001b[0m\u001b[0;34m.\u001b[0m\u001b[0mshape\u001b[0m\u001b[0;34m[\u001b[0m\u001b[0;36m1\u001b[0m\u001b[0;34m]\u001b[0m\u001b[0;34m)\u001b[0m\u001b[0;34m\u001b[0m\u001b[0;34m\u001b[0m\u001b[0m\n",
            "\u001b[0;32m/usr/local/lib/python3.10/dist-packages/sklearn/utils/_set_output.py\u001b[0m in \u001b[0;36mwrapped\u001b[0;34m(self, X, *args, **kwargs)\u001b[0m\n\u001b[1;32m    138\u001b[0m     \u001b[0;34m@\u001b[0m\u001b[0mwraps\u001b[0m\u001b[0;34m(\u001b[0m\u001b[0mf\u001b[0m\u001b[0;34m)\u001b[0m\u001b[0;34m\u001b[0m\u001b[0;34m\u001b[0m\u001b[0m\n\u001b[1;32m    139\u001b[0m     \u001b[0;32mdef\u001b[0m \u001b[0mwrapped\u001b[0m\u001b[0;34m(\u001b[0m\u001b[0mself\u001b[0m\u001b[0;34m,\u001b[0m \u001b[0mX\u001b[0m\u001b[0;34m,\u001b[0m \u001b[0;34m*\u001b[0m\u001b[0margs\u001b[0m\u001b[0;34m,\u001b[0m \u001b[0;34m**\u001b[0m\u001b[0mkwargs\u001b[0m\u001b[0;34m)\u001b[0m\u001b[0;34m:\u001b[0m\u001b[0;34m\u001b[0m\u001b[0;34m\u001b[0m\u001b[0m\n\u001b[0;32m--> 140\u001b[0;31m         \u001b[0mdata_to_wrap\u001b[0m \u001b[0;34m=\u001b[0m \u001b[0mf\u001b[0m\u001b[0;34m(\u001b[0m\u001b[0mself\u001b[0m\u001b[0;34m,\u001b[0m \u001b[0mX\u001b[0m\u001b[0;34m,\u001b[0m \u001b[0;34m*\u001b[0m\u001b[0margs\u001b[0m\u001b[0;34m,\u001b[0m \u001b[0;34m**\u001b[0m\u001b[0mkwargs\u001b[0m\u001b[0;34m)\u001b[0m\u001b[0;34m\u001b[0m\u001b[0;34m\u001b[0m\u001b[0m\n\u001b[0m\u001b[1;32m    141\u001b[0m         \u001b[0;32mif\u001b[0m \u001b[0misinstance\u001b[0m\u001b[0;34m(\u001b[0m\u001b[0mdata_to_wrap\u001b[0m\u001b[0;34m,\u001b[0m \u001b[0mtuple\u001b[0m\u001b[0;34m)\u001b[0m\u001b[0;34m:\u001b[0m\u001b[0;34m\u001b[0m\u001b[0;34m\u001b[0m\u001b[0m\n\u001b[1;32m    142\u001b[0m             \u001b[0;31m# only wrap the first output for cross decomposition\u001b[0m\u001b[0;34m\u001b[0m\u001b[0;34m\u001b[0m\u001b[0m\n",
            "\u001b[0;32m/usr/local/lib/python3.10/dist-packages/sklearn/base.py\u001b[0m in \u001b[0;36mfit_transform\u001b[0;34m(self, X, y, **fit_params)\u001b[0m\n\u001b[1;32m    879\u001b[0m         \u001b[0;32melse\u001b[0m\u001b[0;34m:\u001b[0m\u001b[0;34m\u001b[0m\u001b[0;34m\u001b[0m\u001b[0m\n\u001b[1;32m    880\u001b[0m             \u001b[0;31m# fit method of arity 2 (supervised transformation)\u001b[0m\u001b[0;34m\u001b[0m\u001b[0;34m\u001b[0m\u001b[0m\n\u001b[0;32m--> 881\u001b[0;31m             \u001b[0;32mreturn\u001b[0m \u001b[0mself\u001b[0m\u001b[0;34m.\u001b[0m\u001b[0mfit\u001b[0m\u001b[0;34m(\u001b[0m\u001b[0mX\u001b[0m\u001b[0;34m,\u001b[0m \u001b[0my\u001b[0m\u001b[0;34m,\u001b[0m \u001b[0;34m**\u001b[0m\u001b[0mfit_params\u001b[0m\u001b[0;34m)\u001b[0m\u001b[0;34m.\u001b[0m\u001b[0mtransform\u001b[0m\u001b[0;34m(\u001b[0m\u001b[0mX\u001b[0m\u001b[0;34m)\u001b[0m\u001b[0;34m\u001b[0m\u001b[0;34m\u001b[0m\u001b[0m\n\u001b[0m\u001b[1;32m    882\u001b[0m \u001b[0;34m\u001b[0m\u001b[0m\n\u001b[1;32m    883\u001b[0m \u001b[0;34m\u001b[0m\u001b[0m\n",
            "\u001b[0;32m/usr/local/lib/python3.10/dist-packages/sklearn/feature_selection/_univariate_selection.py\u001b[0m in \u001b[0;36mfit\u001b[0;34m(self, X, y)\u001b[0m\n\u001b[1;32m    465\u001b[0m         \u001b[0mself\u001b[0m\u001b[0;34m.\u001b[0m\u001b[0m_validate_params\u001b[0m\u001b[0;34m(\u001b[0m\u001b[0;34m)\u001b[0m\u001b[0;34m\u001b[0m\u001b[0;34m\u001b[0m\u001b[0m\n\u001b[1;32m    466\u001b[0m \u001b[0;34m\u001b[0m\u001b[0m\n\u001b[0;32m--> 467\u001b[0;31m         X, y = self._validate_data(\n\u001b[0m\u001b[1;32m    468\u001b[0m             \u001b[0mX\u001b[0m\u001b[0;34m,\u001b[0m \u001b[0my\u001b[0m\u001b[0;34m,\u001b[0m \u001b[0maccept_sparse\u001b[0m\u001b[0;34m=\u001b[0m\u001b[0;34m[\u001b[0m\u001b[0;34m\"csr\"\u001b[0m\u001b[0;34m,\u001b[0m \u001b[0;34m\"csc\"\u001b[0m\u001b[0;34m]\u001b[0m\u001b[0;34m,\u001b[0m \u001b[0mmulti_output\u001b[0m\u001b[0;34m=\u001b[0m\u001b[0;32mTrue\u001b[0m\u001b[0;34m\u001b[0m\u001b[0;34m\u001b[0m\u001b[0m\n\u001b[1;32m    469\u001b[0m         )\n",
            "\u001b[0;32m/usr/local/lib/python3.10/dist-packages/sklearn/base.py\u001b[0m in \u001b[0;36m_validate_data\u001b[0;34m(self, X, y, reset, validate_separately, **check_params)\u001b[0m\n\u001b[1;32m    582\u001b[0m                 \u001b[0my\u001b[0m \u001b[0;34m=\u001b[0m \u001b[0mcheck_array\u001b[0m\u001b[0;34m(\u001b[0m\u001b[0my\u001b[0m\u001b[0;34m,\u001b[0m \u001b[0minput_name\u001b[0m\u001b[0;34m=\u001b[0m\u001b[0;34m\"y\"\u001b[0m\u001b[0;34m,\u001b[0m \u001b[0;34m**\u001b[0m\u001b[0mcheck_y_params\u001b[0m\u001b[0;34m)\u001b[0m\u001b[0;34m\u001b[0m\u001b[0;34m\u001b[0m\u001b[0m\n\u001b[1;32m    583\u001b[0m             \u001b[0;32melse\u001b[0m\u001b[0;34m:\u001b[0m\u001b[0;34m\u001b[0m\u001b[0;34m\u001b[0m\u001b[0m\n\u001b[0;32m--> 584\u001b[0;31m                 \u001b[0mX\u001b[0m\u001b[0;34m,\u001b[0m \u001b[0my\u001b[0m \u001b[0;34m=\u001b[0m \u001b[0mcheck_X_y\u001b[0m\u001b[0;34m(\u001b[0m\u001b[0mX\u001b[0m\u001b[0;34m,\u001b[0m \u001b[0my\u001b[0m\u001b[0;34m,\u001b[0m \u001b[0;34m**\u001b[0m\u001b[0mcheck_params\u001b[0m\u001b[0;34m)\u001b[0m\u001b[0;34m\u001b[0m\u001b[0;34m\u001b[0m\u001b[0m\n\u001b[0m\u001b[1;32m    585\u001b[0m             \u001b[0mout\u001b[0m \u001b[0;34m=\u001b[0m \u001b[0mX\u001b[0m\u001b[0;34m,\u001b[0m \u001b[0my\u001b[0m\u001b[0;34m\u001b[0m\u001b[0;34m\u001b[0m\u001b[0m\n\u001b[1;32m    586\u001b[0m \u001b[0;34m\u001b[0m\u001b[0m\n",
            "\u001b[0;32m/usr/local/lib/python3.10/dist-packages/sklearn/utils/validation.py\u001b[0m in \u001b[0;36mcheck_X_y\u001b[0;34m(X, y, accept_sparse, accept_large_sparse, dtype, order, copy, force_all_finite, ensure_2d, allow_nd, multi_output, ensure_min_samples, ensure_min_features, y_numeric, estimator)\u001b[0m\n\u001b[1;32m   1104\u001b[0m         )\n\u001b[1;32m   1105\u001b[0m \u001b[0;34m\u001b[0m\u001b[0m\n\u001b[0;32m-> 1106\u001b[0;31m     X = check_array(\n\u001b[0m\u001b[1;32m   1107\u001b[0m         \u001b[0mX\u001b[0m\u001b[0;34m,\u001b[0m\u001b[0;34m\u001b[0m\u001b[0;34m\u001b[0m\u001b[0m\n\u001b[1;32m   1108\u001b[0m         \u001b[0maccept_sparse\u001b[0m\u001b[0;34m=\u001b[0m\u001b[0maccept_sparse\u001b[0m\u001b[0;34m,\u001b[0m\u001b[0;34m\u001b[0m\u001b[0;34m\u001b[0m\u001b[0m\n",
            "\u001b[0;32m/usr/local/lib/python3.10/dist-packages/sklearn/utils/validation.py\u001b[0m in \u001b[0;36mcheck_array\u001b[0;34m(array, accept_sparse, accept_large_sparse, dtype, order, copy, force_all_finite, ensure_2d, allow_nd, ensure_min_samples, ensure_min_features, estimator, input_name)\u001b[0m\n\u001b[1;32m    877\u001b[0m                     \u001b[0marray\u001b[0m \u001b[0;34m=\u001b[0m \u001b[0mxp\u001b[0m\u001b[0;34m.\u001b[0m\u001b[0mastype\u001b[0m\u001b[0;34m(\u001b[0m\u001b[0marray\u001b[0m\u001b[0;34m,\u001b[0m \u001b[0mdtype\u001b[0m\u001b[0;34m,\u001b[0m \u001b[0mcopy\u001b[0m\u001b[0;34m=\u001b[0m\u001b[0;32mFalse\u001b[0m\u001b[0;34m)\u001b[0m\u001b[0;34m\u001b[0m\u001b[0;34m\u001b[0m\u001b[0m\n\u001b[1;32m    878\u001b[0m                 \u001b[0;32melse\u001b[0m\u001b[0;34m:\u001b[0m\u001b[0;34m\u001b[0m\u001b[0;34m\u001b[0m\u001b[0m\n\u001b[0;32m--> 879\u001b[0;31m                     \u001b[0marray\u001b[0m \u001b[0;34m=\u001b[0m \u001b[0m_asarray_with_order\u001b[0m\u001b[0;34m(\u001b[0m\u001b[0marray\u001b[0m\u001b[0;34m,\u001b[0m \u001b[0morder\u001b[0m\u001b[0;34m=\u001b[0m\u001b[0morder\u001b[0m\u001b[0;34m,\u001b[0m \u001b[0mdtype\u001b[0m\u001b[0;34m=\u001b[0m\u001b[0mdtype\u001b[0m\u001b[0;34m,\u001b[0m \u001b[0mxp\u001b[0m\u001b[0;34m=\u001b[0m\u001b[0mxp\u001b[0m\u001b[0;34m)\u001b[0m\u001b[0;34m\u001b[0m\u001b[0;34m\u001b[0m\u001b[0m\n\u001b[0m\u001b[1;32m    880\u001b[0m             \u001b[0;32mexcept\u001b[0m \u001b[0mComplexWarning\u001b[0m \u001b[0;32mas\u001b[0m \u001b[0mcomplex_warning\u001b[0m\u001b[0;34m:\u001b[0m\u001b[0;34m\u001b[0m\u001b[0;34m\u001b[0m\u001b[0m\n\u001b[1;32m    881\u001b[0m                 raise ValueError(\n",
            "\u001b[0;32m/usr/local/lib/python3.10/dist-packages/sklearn/utils/_array_api.py\u001b[0m in \u001b[0;36m_asarray_with_order\u001b[0;34m(array, dtype, order, copy, xp)\u001b[0m\n\u001b[1;32m    183\u001b[0m     \u001b[0;32mif\u001b[0m \u001b[0mxp\u001b[0m\u001b[0;34m.\u001b[0m\u001b[0m__name__\u001b[0m \u001b[0;32min\u001b[0m \u001b[0;34m{\u001b[0m\u001b[0;34m\"numpy\"\u001b[0m\u001b[0;34m,\u001b[0m \u001b[0;34m\"numpy.array_api\"\u001b[0m\u001b[0;34m}\u001b[0m\u001b[0;34m:\u001b[0m\u001b[0;34m\u001b[0m\u001b[0;34m\u001b[0m\u001b[0m\n\u001b[1;32m    184\u001b[0m         \u001b[0;31m# Use NumPy API to support order\u001b[0m\u001b[0;34m\u001b[0m\u001b[0;34m\u001b[0m\u001b[0m\n\u001b[0;32m--> 185\u001b[0;31m         \u001b[0marray\u001b[0m \u001b[0;34m=\u001b[0m \u001b[0mnumpy\u001b[0m\u001b[0;34m.\u001b[0m\u001b[0masarray\u001b[0m\u001b[0;34m(\u001b[0m\u001b[0marray\u001b[0m\u001b[0;34m,\u001b[0m \u001b[0morder\u001b[0m\u001b[0;34m=\u001b[0m\u001b[0morder\u001b[0m\u001b[0;34m,\u001b[0m \u001b[0mdtype\u001b[0m\u001b[0;34m=\u001b[0m\u001b[0mdtype\u001b[0m\u001b[0;34m)\u001b[0m\u001b[0;34m\u001b[0m\u001b[0;34m\u001b[0m\u001b[0m\n\u001b[0m\u001b[1;32m    186\u001b[0m         \u001b[0;32mreturn\u001b[0m \u001b[0mxp\u001b[0m\u001b[0;34m.\u001b[0m\u001b[0masarray\u001b[0m\u001b[0;34m(\u001b[0m\u001b[0marray\u001b[0m\u001b[0;34m,\u001b[0m \u001b[0mcopy\u001b[0m\u001b[0;34m=\u001b[0m\u001b[0mcopy\u001b[0m\u001b[0;34m)\u001b[0m\u001b[0;34m\u001b[0m\u001b[0;34m\u001b[0m\u001b[0m\n\u001b[1;32m    187\u001b[0m     \u001b[0;32melse\u001b[0m\u001b[0;34m:\u001b[0m\u001b[0;34m\u001b[0m\u001b[0;34m\u001b[0m\u001b[0m\n",
            "\u001b[0;31mValueError\u001b[0m: could not convert string to float: 'aamiin'"
          ]
        }
      ],
      "source": [
        "ekstraksi_fitur = SelectKBest(chi2, k=1000)\n",
        "X_kbest_features = ekstraksi_fitur.fit_transform(X, y)\n",
        "#mengurangi nilai fitur\n",
        "print('nilai_asli feature number:', X.shape[1])\n",
        "print('nilai yang dikurangi feature number:', X_kbest_features.shape[1])"
      ]
    },
    {
      "cell_type": "code",
      "execution_count": null,
      "metadata": {
        "id": "BNs6GKexUOxu"
      },
      "outputs": [],
      "source": [
        "data_tf_idf = pd.DataFrame(ekstraksi_fitur.scores_, columns=['nilai']) \n",
        "data_tf_idf"
      ]
    },
    {
      "cell_type": "code",
      "execution_count": null,
      "metadata": {
        "id": "Ad6G1KG5U0xw"
      },
      "outputs": [],
      "source": [
        "feature = tf_idf.get_feature_names_out() \n",
        "data_tf_idf['fitur'] = feature \n",
        "data_tf_idf"
      ]
    },
    {
      "cell_type": "code",
      "execution_count": null,
      "metadata": {
        "id": "hFEjojpHVm26"
      },
      "outputs": [],
      "source": [
        "data_tf_idf.sort_values(by='nilai', ascending=False)"
      ]
    },
    {
      "cell_type": "code",
      "execution_count": null,
      "metadata": {
        "colab": {
          "base_uri": "https://localhost:8080/"
        },
        "id": "nmu7HTFoXAC0",
        "outputId": "7f230021-327f-4fb5-fade-e4b0cbf0bd22"
      },
      "outputs": [
        {
          "data": {
            "text/plain": [
              "array([ True, False,  True, ..., False,  True,  True])"
            ]
          },
          "execution_count": 39,
          "metadata": {},
          "output_type": "execute_result"
        }
      ],
      "source": [
        "mask_data = ekstraksi_fitur.get_support()\n",
        "mask_data"
      ]
    },
    {
      "cell_type": "code",
      "execution_count": null,
      "metadata": {
        "id": "B2gM1zuKXOhf"
      },
      "outputs": [],
      "source": [
        "new_feature = []\n",
        "\n",
        "for bool, f in zip(mask_data, feature):\n",
        "  if bool:\n",
        "    new_feature.append(f)\n",
        "selected_feature = new_feature\n",
        "selected_feature"
      ]
    },
    {
      "cell_type": "code",
      "execution_count": null,
      "metadata": {
        "id": "noPVqZvtX5Fv"
      },
      "outputs": [],
      "source": [
        "kbest_feature = {} # Buat kamus kosong\n",
        "for (k,v) in tf_idf.vocabulary_.items():\n",
        "   if k in selected_feature:\n",
        "    kbest_feature[k] = v"
      ]
    },
    {
      "cell_type": "code",
      "execution_count": null,
      "metadata": {
        "id": "5twculmmYBJD"
      },
      "outputs": [],
      "source": [
        "kbest_feature"
      ]
    },
    {
      "cell_type": "markdown",
      "metadata": {
        "id": "JQj-B-Vy32yA"
      },
      "source": [
        "#Perhitungan Multinomial Naive Bayes"
      ]
    },
    {
      "cell_type": "code",
      "execution_count": null,
      "metadata": {
        "id": "v_l8nfZD37bR"
      },
      "outputs": [],
      "source": [
        "#Mengimport library multinomial naive bayes\n",
        "from sklearn.naive_bayes import MultinomialNB\n",
        "from sklearn.model_selection import train_test_split\n",
        "from joblib import dump"
      ]
    },
    {
      "cell_type": "code",
      "execution_count": null,
      "metadata": {
        "id": "UPH6b5eBw6Hb"
      },
      "outputs": [],
      "source": [
        "X_train, x_test, y_train, y_test = train_test_split(X_kbest_features, y, test_size=0.1, random_state=10)"
      ]
    },
    {
      "cell_type": "code",
      "execution_count": null,
      "metadata": {
        "colab": {
          "base_uri": "https://localhost:8080/"
        },
        "id": "Kjw_MMam8Tb1",
        "outputId": "eac37f74-f7f1-4939-ea23-084ca4b9c465"
      },
      "outputs": [
        {
          "data": {
            "text/plain": [
              "['model_1.joblib']"
            ]
          },
          "execution_count": 54,
          "metadata": {},
          "output_type": "execute_result"
        }
      ],
      "source": [
        "#data training\n",
        "#Training the model\n",
        "algorithm = MultinomialNB()\n",
        "model = algorithm.fit(X_train, y_train)\n",
        "# Simpan model hasil traning\n",
        "dump(model, filename='model_1.joblib')"
      ]
    },
    {
      "cell_type": "code",
      "execution_count": null,
      "metadata": {
        "id": "Vpga7WCd_tCd"
      },
      "outputs": [],
      "source": [
        "#menggunakan model yang telah dilatih untuk prediksi label data uji\n",
        "model_pred = model.predict(x_test)"
      ]
    },
    {
      "cell_type": "code",
      "execution_count": null,
      "metadata": {
        "colab": {
          "base_uri": "https://localhost:8080/"
        },
        "id": "ogdtbwjIFo-l",
        "outputId": "45dfed02-cdcd-47e5-cbf1-68f22c8786c3"
      },
      "outputs": [
        {
          "data": {
            "text/plain": [
              "array([0, 1, 1, 1, 1, 1, 1, 1, 1, 0, 0, 1, 0, 1, 1, 1, 1, 1, 1, 0, 1, 0,\n",
              "       0, 0, 1, 1, 1, 0, 1, 1, 1, 0, 1, 0, 1, 1, 0, 1, 0, 1, 0, 0, 1, 0,\n",
              "       1, 0, 0, 1, 1, 0, 1, 0, 1, 1, 1, 1, 1, 1, 1, 1, 1, 0, 1, 0, 0, 1,\n",
              "       1, 1, 0, 0, 1, 1, 1, 0, 0, 1, 1, 0, 1, 1, 1, 1, 1, 0, 0, 0, 0, 0,\n",
              "       0, 1, 1, 0, 1, 1, 1, 1, 0, 0, 0, 0, 1, 1, 1, 1, 1, 1, 1, 1, 1, 1,\n",
              "       1, 1, 1, 1, 1, 0, 1, 1, 1, 0, 1, 1, 1, 0, 1, 0, 0, 0, 0, 1, 1, 0])"
            ]
          },
          "execution_count": 56,
          "metadata": {},
          "output_type": "execute_result"
        }
      ],
      "source": [
        "#menampilkan hasil prediksi model\n",
        "model_pred"
      ]
    },
    {
      "cell_type": "code",
      "execution_count": null,
      "metadata": {
        "colab": {
          "base_uri": "https://localhost:8080/"
        },
        "id": "nEx4QjijG6L2",
        "outputId": "9c60f396-1da6-448f-ce85-9a68b6387f89"
      },
      "outputs": [
        {
          "data": {
            "text/plain": [
              "array([1, 1, 1, 1, 1, 1, 1, 0, 1, 0, 0, 0, 0, 1, 1, 0, 1, 0, 1, 0, 0, 0,\n",
              "       0, 0, 1, 1, 1, 1, 0, 1, 1, 0, 1, 1, 1, 0, 0, 1, 0, 0, 1, 0, 1, 0,\n",
              "       0, 0, 1, 1, 1, 0, 0, 1, 0, 0, 1, 1, 1, 1, 0, 0, 1, 0, 1, 0, 0, 1,\n",
              "       0, 1, 0, 0, 1, 1, 1, 0, 0, 1, 0, 1, 0, 1, 1, 0, 0, 0, 0, 0, 0, 0,\n",
              "       1, 1, 1, 1, 1, 1, 1, 1, 0, 0, 0, 0, 1, 1, 0, 1, 1, 0, 0, 1, 1, 1,\n",
              "       1, 0, 1, 1, 1, 0, 0, 1, 0, 0, 1, 0, 0, 0, 0, 0, 0, 1, 0, 1, 1, 0])"
            ]
          },
          "execution_count": 57,
          "metadata": {},
          "output_type": "execute_result"
        }
      ],
      "source": [
        "#menampilkan hasil prediksi label\n",
        "y_test"
      ]
    },
    {
      "cell_type": "markdown",
      "metadata": {
        "id": "2qspzgsGHA5T"
      },
      "source": [
        "# EVALUASI MODEL"
      ]
    },
    {
      "cell_type": "code",
      "execution_count": null,
      "metadata": {
        "colab": {
          "base_uri": "https://localhost:8080/"
        },
        "id": "hamGnmpVG9iM",
        "outputId": "9cb43f94-46be-4ce7-aab0-274b16e08b53"
      },
      "outputs": [
        {
          "name": "stdout",
          "output_type": "stream",
          "text": [
            "Jumlah prediksi benar\t: 94\n",
            "Jumlah prediksi salah\t: 38\n",
            "akurasi pengujian\t: 71.21212121212122 %\n"
          ]
        }
      ],
      "source": [
        "prediksi_true = (model_pred == y_test).sum()\n",
        "prediksi_false = (model_pred != y_test).sum()\n",
        "\n",
        "print('Jumlah prediksi benar\\t:',prediksi_true)\n",
        "print('Jumlah prediksi salah\\t:',prediksi_false)\n",
        "\n",
        "akurasi = prediksi_true / (prediksi_true + prediksi_false)*100\n",
        "print('akurasi pengujian\\t:',akurasi, '%')"
      ]
    },
    {
      "cell_type": "code",
      "execution_count": null,
      "metadata": {
        "colab": {
          "base_uri": "https://localhost:8080/"
        },
        "id": "Pzl8OHUCIIBL",
        "outputId": "8d414ac4-948c-4655-bd27-d367404d647a"
      },
      "outputs": [
        {
          "name": "stdout",
          "output_type": "stream",
          "text": [
            "Confussion Matrix:\n",
            " [[37 28]\n",
            " [10 57]]\n"
          ]
        }
      ],
      "source": [
        "from sklearn.metrics import confusion_matrix\n",
        "\n",
        "uji = confusion_matrix(y_test, model_pred)\n",
        "print(\"Confussion Matrix:\\n\",uji)"
      ]
    },
    {
      "cell_type": "code",
      "execution_count": null,
      "metadata": {
        "colab": {
          "base_uri": "https://localhost:8080/"
        },
        "id": "YpkjSHcuIl2S",
        "outputId": "0ba222ae-accf-426f-b058-c67c36b55a32"
      },
      "outputs": [
        {
          "name": "stdout",
          "output_type": "stream",
          "text": [
            "Hasil Klasifikasi:\n",
            "                precision    recall  f1-score   support\n",
            "\n",
            "           0       0.79      0.57      0.66        65\n",
            "           1       0.67      0.85      0.75        67\n",
            "\n",
            "    accuracy                           0.71       132\n",
            "   macro avg       0.73      0.71      0.71       132\n",
            "weighted avg       0.73      0.71      0.71       132\n",
            "\n"
          ]
        }
      ],
      "source": [
        "from sklearn.metrics import classification_report\n",
        "\n",
        "print('Hasil Klasifikasi:\\n ',classification_report(y_test, model_pred))"
      ]
    },
    {
      "cell_type": "markdown",
      "metadata": {
        "id": "KdrAuUW-JUdP"
      },
      "source": [
        "# Hasil Prediksi dokumen yang diinpuntkan..."
      ]
    },
    {
      "cell_type": "code",
      "execution_count": null,
      "metadata": {
        "colab": {
          "base_uri": "https://localhost:8080/"
        },
        "id": "d1pghwYIJJg9",
        "outputId": "f4e9c55f-02ef-40f2-bca9-228d96bc0fe4"
      },
      "outputs": [
        {
          "name": "stdout",
          "output_type": "stream",
          "text": [
            "Masukkan Opini yang berkaitan dengan masa jabatan presiden 3 periode: jokowi tolak tiga periode\n",
            "\n",
            "Hasil text preprocessing:  jokowi tolak tiga periode\n",
            "\n",
            "Hasil prediksi: jokowi tolak tiga periode \n",
            "adalah sentimen Positif\n"
          ]
        }
      ],
      "source": [
        "vocab = selected_feature\n",
        "input_text = input(\"Masukkan Opini yang berkaitan dengan masa jabatan presiden 3 periode: \")\n",
        "#melakukan proses preprocessing\n",
        "pre_input_text = text_preprocessing_proses(input_text)\n",
        "#mendenifisikasn Tf-idf\n",
        "tf_idf_vector = TfidfVectorizer(vocabulary=set(vocab))\n",
        "#melakukan prediksi\n",
        "result = model.predict(tf_idf_vector.fit_transform([pre_input_text]))\n",
        "\n",
        "print('\\nHasil text preprocessing: ', pre_input_text)\n",
        "\n",
        "if(result==1):\n",
        "  tweet = \"Positif\"\n",
        "else:\n",
        "  tweet = \"Negatif\"\n",
        "\n",
        "print('\\nHasil prediksi:',input_text,'\\nadalah sentimen',tweet)"
      ]
    }
  ],
  "metadata": {
    "colab": {
      "provenance": []
    },
    "kernelspec": {
      "display_name": "Python 3",
      "name": "python3"
    }
  },
  "nbformat": 4,
  "nbformat_minor": 0
}